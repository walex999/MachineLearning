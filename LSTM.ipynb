{
 "cells": [
  {
   "cell_type": "markdown",
   "id": "5318e3bd",
   "metadata": {},
   "source": [
    "# Pairs generation"
   ]
  },
  {
   "cell_type": "code",
   "execution_count": null,
   "id": "ea7082cb",
   "metadata": {},
   "outputs": [],
   "source": [
    "# a=0\n",
    "b=0\n",
    "queries = []\n",
    "answers = []\n",
    "while a<100:\n",
    "    b=0\n",
    "    while b<100:\n",
    "        queries.append(str(a)+\"+\"+str(b)) #a + b is always > 0 if a and b are >0\n",
    "        answers.append(\"+\"+str(a+b))\n",
    "        queries.append(str(a)+\"-\"+str(b)) #a + b is always > 0 if a and b are >0\n",
    "        if a-b>=0:\n",
    "            answers.append(\"+\"+str(a-b))\n",
    "        else:\n",
    "            answers.append(str(a-b)) #the minus sign is here by default\n",
    "        b+=1 \n",
    "    a+=1"
   ]
  },
  {
   "cell_type": "code",
   "execution_count": 2,
   "id": "68cdbc18",
   "metadata": {},
   "outputs": [
    {
     "name": "stdout",
     "output_type": "stream",
     "text": [
      "20000 20000\n"
     ]
    }
   ],
   "source": [
    "print(len(queries),len(answers))"
   ]
  },
  {
   "cell_type": "code",
   "execution_count": 3,
   "id": "e12365b8",
   "metadata": {},
   "outputs": [
    {
     "data": {
      "text/plain": [
       "[('0+0', '+0'),\n",
       " ('0-0', '+0'),\n",
       " ('0+1', '+1'),\n",
       " ('0-1', '-1'),\n",
       " ('0+2', '+2'),\n",
       " ('0-2', '-2'),\n",
       " ('0+3', '+3'),\n",
       " ('0-3', '-3'),\n",
       " ('0+4', '+4'),\n",
       " ('0-4', '-4')]"
      ]
     },
     "execution_count": 3,
     "metadata": {},
     "output_type": "execute_result"
    }
   ],
   "source": [
    "list(zip(queries, answers))[:10]"
   ]
  },
  {
   "cell_type": "markdown",
   "id": "baea8a92",
   "metadata": {},
   "source": [
    "# One-hot encoding"
   ]
  },
  {
   "cell_type": "code",
   "execution_count": 133,
   "id": "7ba3aa48",
   "metadata": {},
   "outputs": [],
   "source": [
    "import numpy as np\n",
    "alphabet = [\"0\",\"1\",\"2\",\"3\",\"4\",\"5\",\"6\",\"7\",\"8\",\"9\",\"+\",\"-\",\" \"]\n",
    "def encode_string(input_string,query): #takes the input string and returns the 5*13 or 4*13 matrix\n",
    "    if query == False: #meaning, if it's an answer\n",
    "    #if(input_string[0] == \"+\" or input_string[0] == \"-\"): #if the first char is the sign, then it's an answer\n",
    "    #removed this condition for manual input, to use this function for the reversed part.\n",
    "        matrix = np.zeros((4,13))\n",
    "        i = 0\n",
    "        while i<4:\n",
    "            if(i<len(input_string)):\n",
    "                j = alphabet.index(input_string[i]) #we find the index to know the location of the bit value between 0 and 12\n",
    "            else:\n",
    "                j = 12\n",
    "            matrix[i,j]=1\n",
    "            i+=1\n",
    "    else:\n",
    "        matrix = np.zeros((5,13))\n",
    "        i=0\n",
    "        while i<5:\n",
    "            if(i<len(input_string)):\n",
    "                j = alphabet.index(input_string[i])\n",
    "            else:\n",
    "                j = 12\n",
    "            matrix[i,j]=1\n",
    "            i+=1\n",
    "    return matrix"
   ]
  },
  {
   "cell_type": "code",
   "execution_count": 134,
   "id": "2dbc3edf",
   "metadata": {},
   "outputs": [
    {
     "name": "stdout",
     "output_type": "stream",
     "text": [
      "[[0. 0. 0. 0. 1. 0. 0. 0. 0. 0. 0. 0. 0.]\n",
      " [0. 0. 0. 0. 0. 0. 0. 0. 0. 0. 1. 0. 0.]\n",
      " [0. 0. 1. 0. 0. 0. 0. 0. 0. 0. 0. 0. 0.]\n",
      " [0. 0. 0. 0. 0. 0. 0. 1. 0. 0. 0. 0. 0.]\n",
      " [0. 0. 0. 0. 0. 0. 0. 0. 0. 0. 0. 0. 1.]]\n",
      "[[0. 0. 0. 0. 0. 0. 0. 0. 0. 0. 1. 0. 0.]\n",
      " [0. 0. 0. 1. 0. 0. 0. 0. 0. 0. 0. 0. 0.]\n",
      " [0. 1. 0. 0. 0. 0. 0. 0. 0. 0. 0. 0. 0.]\n",
      " [0. 0. 0. 0. 0. 0. 0. 0. 0. 0. 0. 0. 1.]]\n"
     ]
    }
   ],
   "source": [
    "test = encode_string(\"4+27\",True)\n",
    "print(test)\n",
    "test = encode_string(\"+31\",False)\n",
    "print(test)"
   ]
  },
  {
   "cell_type": "markdown",
   "id": "f64a7b66",
   "metadata": {},
   "source": [
    "# Splitting the data and shuffling"
   ]
  },
  {
   "cell_type": "code",
   "execution_count": 135,
   "id": "c9643646",
   "metadata": {},
   "outputs": [],
   "source": [
    "from sklearn.model_selection import train_test_split\n",
    "\n",
    "x_train, x_to_split, y_train, y_to_split = train_test_split(queries, answers, test_size=0.3)\n",
    "x_val, x_test, y_val, y_test = train_test_split(x_to_split, y_to_split, test_size=0.5)\n",
    "#shuffling is applied by default in the train_test_split\n",
    "#  shuffle : bool, default=True\n",
    "#    Whether or not to shuffle the data before splitting. If shuffle=False\n",
    "#    then stratify must be None."
   ]
  },
  {
   "cell_type": "code",
   "execution_count": 136,
   "id": "7d270fed",
   "metadata": {
    "scrolled": true
   },
   "outputs": [
    {
     "data": {
      "text/plain": [
       "[('68+41', '+109'),\n",
       " ('90-95', '-5'),\n",
       " ('16+19', '+35'),\n",
       " ('3+41', '+44'),\n",
       " ('56-24', '+32'),\n",
       " ('98-82', '+16'),\n",
       " ('1+38', '+39'),\n",
       " ('80-75', '+5'),\n",
       " ('57+18', '+75'),\n",
       " ('62-7', '+55')]"
      ]
     },
     "execution_count": 136,
     "metadata": {},
     "output_type": "execute_result"
    }
   ],
   "source": [
    "#proof\n",
    "list(zip(x_test, y_test))[:10]"
   ]
  },
  {
   "cell_type": "markdown",
   "id": "d48f4ab5",
   "metadata": {},
   "source": [
    "But now let's do it on the encoded data"
   ]
  },
  {
   "cell_type": "code",
   "execution_count": 137,
   "id": "f900be94",
   "metadata": {
    "scrolled": false
   },
   "outputs": [],
   "source": [
    "queries_encoded = [encode_string(i,True) for i in queries]"
   ]
  },
  {
   "cell_type": "code",
   "execution_count": 138,
   "id": "e2b101d7",
   "metadata": {},
   "outputs": [],
   "source": [
    "answers_encoded = [encode_string(i,False) for i in answers]"
   ]
  },
  {
   "cell_type": "code",
   "execution_count": 139,
   "id": "5efe5025",
   "metadata": {},
   "outputs": [],
   "source": [
    "from sklearn.model_selection import train_test_split\n",
    "\n",
    "x_train, x_to_split, y_train, y_to_split = train_test_split(queries_encoded, answers_encoded, test_size=0.3)\n",
    "x_val, x_test, y_val, y_test = train_test_split(x_to_split, y_to_split, test_size=0.5)\n",
    "#shuffling is applied by default in the train_test_split\n",
    "#  shuffle : bool, default=True\n",
    "#    Whether or not to shuffle the data before splitting. If shuffle=False\n",
    "#    then stratify must be None."
   ]
  },
  {
   "cell_type": "code",
   "execution_count": 140,
   "id": "7450943b",
   "metadata": {},
   "outputs": [],
   "source": [
    "x_train = np.stack(x_train)\n",
    "y_train = np.stack(y_train)\n",
    "x_val = np.stack(x_val)\n",
    "y_val = np.stack(y_val)\n",
    "x_test = np.stack(x_test)\n",
    "y_test = np.stack(y_test)"
   ]
  },
  {
   "cell_type": "code",
   "execution_count": 141,
   "id": "d12a8406",
   "metadata": {},
   "outputs": [
    {
     "name": "stdout",
     "output_type": "stream",
     "text": [
      "(14000, 5, 13) (3000, 5, 13) (3000, 5, 13)\n",
      "(14000, 4, 13) (3000, 4, 13) (3000, 4, 13)\n"
     ]
    }
   ],
   "source": [
    "print(x_train.shape,x_val.shape,x_test.shape)\n",
    "print(y_train.shape,y_val.shape,y_test.shape)"
   ]
  },
  {
   "cell_type": "markdown",
   "id": "b90323b5",
   "metadata": {},
   "source": [
    "# Building & training the model"
   ]
  },
  {
   "cell_type": "code",
   "execution_count": 172,
   "id": "a32c9c08",
   "metadata": {},
   "outputs": [],
   "source": [
    "from keras import models\n",
    "from keras import layers\n",
    "\n",
    "model = models.Sequential()\n",
    "model.add(layers.LSTM(128, input_shape=(5, 13), return_sequences=False)) \n",
    "#this is the encoder, it emits the context as a function of its final hidden stat (return_sequence=False)\n",
    "#it takes our inputs of length 5 with 13-bit-one-hot encoded queries.\n",
    "model.add(layers.RepeatVector(4))\n",
    "#act as a bridge between encoder and decoder and repeats the output of the encoder 4 times\n",
    "#this had to be 4 times to be the length of our output sequence which is 4 (4x13-bit encoded)\n",
    "model.add(layers.LSTM(128, return_sequences=True))\n",
    "#this is the decoder, from the context it generates the output sequence.\n",
    "#return_sequence=True means it returns an output for each time step.\n",
    "model.add(layers.Dense(13, activation=\"softmax\"))\n",
    "#finally, the softmax activation function is used to generate a probability distribution\n",
    "# Since the alphabet is of 13 chracters, this is the width we select\n",
    "# this is done for each time step of the output sequence."
   ]
  },
  {
   "cell_type": "code",
   "execution_count": 173,
   "id": "0c18f57f",
   "metadata": {},
   "outputs": [],
   "source": [
    "model.compile(loss='categorical_crossentropy', optimizer=\"adam\", metrics=['accuracy'])"
   ]
  },
  {
   "cell_type": "code",
   "execution_count": 174,
   "id": "2f96644b",
   "metadata": {
    "scrolled": true
   },
   "outputs": [
    {
     "name": "stdout",
     "output_type": "stream",
     "text": [
      "Epoch 1/50\n",
      "438/438 [==============================] - 10s 15ms/step - loss: 1.4944 - accuracy: 0.4852 - val_loss: 1.2597 - val_accuracy: 0.5489\n",
      "Epoch 2/50\n",
      "438/438 [==============================] - 5s 11ms/step - loss: 1.1617 - accuracy: 0.5782 - val_loss: 1.0682 - val_accuracy: 0.6099\n",
      "Epoch 3/50\n",
      "438/438 [==============================] - 5s 11ms/step - loss: 1.0249 - accuracy: 0.6275 - val_loss: 0.9715 - val_accuracy: 0.6383\n",
      "Epoch 4/50\n",
      "438/438 [==============================] - 5s 11ms/step - loss: 0.9538 - accuracy: 0.6529 - val_loss: 0.9231 - val_accuracy: 0.6710\n",
      "Epoch 5/50\n",
      "438/438 [==============================] - 5s 11ms/step - loss: 0.9098 - accuracy: 0.6689 - val_loss: 0.8953 - val_accuracy: 0.6711\n",
      "Epoch 6/50\n",
      "438/438 [==============================] - 5s 11ms/step - loss: 0.8677 - accuracy: 0.6836 - val_loss: 0.8449 - val_accuracy: 0.6927\n",
      "Epoch 7/50\n",
      "438/438 [==============================] - 5s 12ms/step - loss: 0.8264 - accuracy: 0.6973 - val_loss: 0.8097 - val_accuracy: 0.7003\n",
      "Epoch 8/50\n",
      "438/438 [==============================] - 5s 12ms/step - loss: 0.7938 - accuracy: 0.7087 - val_loss: 0.7783 - val_accuracy: 0.7130\n",
      "Epoch 9/50\n",
      "438/438 [==============================] - 5s 12ms/step - loss: 0.7671 - accuracy: 0.7172 - val_loss: 0.7439 - val_accuracy: 0.7264\n",
      "Epoch 10/50\n",
      "438/438 [==============================] - 5s 11ms/step - loss: 0.7341 - accuracy: 0.7292 - val_loss: 0.7567 - val_accuracy: 0.7235\n",
      "Epoch 11/50\n",
      "438/438 [==============================] - 5s 11ms/step - loss: 0.7118 - accuracy: 0.7373 - val_loss: 0.6992 - val_accuracy: 0.7391\n",
      "Epoch 12/50\n",
      "438/438 [==============================] - 5s 11ms/step - loss: 0.6971 - accuracy: 0.7413 - val_loss: 0.6775 - val_accuracy: 0.7534\n",
      "Epoch 13/50\n",
      "438/438 [==============================] - 5s 12ms/step - loss: 0.6668 - accuracy: 0.7536 - val_loss: 0.7534 - val_accuracy: 0.7172\n",
      "Epoch 14/50\n",
      "438/438 [==============================] - 5s 11ms/step - loss: 0.6563 - accuracy: 0.7560 - val_loss: 0.6569 - val_accuracy: 0.7611\n",
      "Epoch 15/50\n",
      "438/438 [==============================] - 5s 11ms/step - loss: 0.6299 - accuracy: 0.7665 - val_loss: 0.6316 - val_accuracy: 0.7623\n",
      "Epoch 16/50\n",
      "438/438 [==============================] - 5s 11ms/step - loss: 0.6138 - accuracy: 0.7719 - val_loss: 0.5970 - val_accuracy: 0.7757\n",
      "Epoch 17/50\n",
      "438/438 [==============================] - 5s 11ms/step - loss: 0.5848 - accuracy: 0.7813 - val_loss: 0.5938 - val_accuracy: 0.7813\n",
      "Epoch 18/50\n",
      "438/438 [==============================] - 5s 11ms/step - loss: 0.5539 - accuracy: 0.7941 - val_loss: 0.5465 - val_accuracy: 0.7962\n",
      "Epoch 19/50\n",
      "438/438 [==============================] - 5s 11ms/step - loss: 0.5151 - accuracy: 0.8108 - val_loss: 0.4936 - val_accuracy: 0.8207\n",
      "Epoch 20/50\n",
      "438/438 [==============================] - 5s 11ms/step - loss: 0.4683 - accuracy: 0.8282 - val_loss: 0.4368 - val_accuracy: 0.8438\n",
      "Epoch 21/50\n",
      "438/438 [==============================] - 5s 11ms/step - loss: 0.4093 - accuracy: 0.8548 - val_loss: 0.3936 - val_accuracy: 0.8551\n",
      "Epoch 22/50\n",
      "438/438 [==============================] - 5s 11ms/step - loss: 0.3556 - accuracy: 0.8790 - val_loss: 0.3558 - val_accuracy: 0.8635\n",
      "Epoch 23/50\n",
      "438/438 [==============================] - 5s 11ms/step - loss: 0.3000 - accuracy: 0.9033 - val_loss: 0.3099 - val_accuracy: 0.8947\n",
      "Epoch 24/50\n",
      "438/438 [==============================] - 5s 11ms/step - loss: 0.2565 - accuracy: 0.9253 - val_loss: 0.2490 - val_accuracy: 0.9258\n",
      "Epoch 25/50\n",
      "438/438 [==============================] - 5s 11ms/step - loss: 0.2207 - accuracy: 0.9390 - val_loss: 0.2408 - val_accuracy: 0.9233\n",
      "Epoch 26/50\n",
      "438/438 [==============================] - 5s 11ms/step - loss: 0.1973 - accuracy: 0.9491 - val_loss: 0.2148 - val_accuracy: 0.9329\n",
      "Epoch 27/50\n",
      "438/438 [==============================] - 5s 11ms/step - loss: 0.1551 - accuracy: 0.9670 - val_loss: 0.1531 - val_accuracy: 0.9659\n",
      "Epoch 28/50\n",
      "438/438 [==============================] - 5s 11ms/step - loss: 0.1359 - accuracy: 0.9712 - val_loss: 0.1448 - val_accuracy: 0.9623\n",
      "Epoch 29/50\n",
      "438/438 [==============================] - 5s 11ms/step - loss: 0.1288 - accuracy: 0.9714 - val_loss: 0.1315 - val_accuracy: 0.9636\n",
      "Epoch 30/50\n",
      "438/438 [==============================] - 5s 11ms/step - loss: 0.0955 - accuracy: 0.9841 - val_loss: 0.1012 - val_accuracy: 0.9768\n",
      "Epoch 31/50\n",
      "438/438 [==============================] - 5s 11ms/step - loss: 0.1052 - accuracy: 0.9765 - val_loss: 0.0880 - val_accuracy: 0.9796\n",
      "Epoch 32/50\n",
      "438/438 [==============================] - 5s 11ms/step - loss: 0.0705 - accuracy: 0.9884 - val_loss: 0.0824 - val_accuracy: 0.9785\n",
      "Epoch 33/50\n",
      "438/438 [==============================] - 5s 11ms/step - loss: 0.0740 - accuracy: 0.9843 - val_loss: 0.0738 - val_accuracy: 0.9825\n",
      "Epoch 34/50\n",
      "438/438 [==============================] - 5s 11ms/step - loss: 0.0652 - accuracy: 0.9860 - val_loss: 0.0835 - val_accuracy: 0.9753\n",
      "Epoch 35/50\n",
      "438/438 [==============================] - 5s 11ms/step - loss: 0.0628 - accuracy: 0.9866 - val_loss: 0.0444 - val_accuracy: 0.9928\n",
      "Epoch 36/50\n",
      "438/438 [==============================] - 5s 11ms/step - loss: 0.0716 - accuracy: 0.9829 - val_loss: 0.0458 - val_accuracy: 0.9916\n",
      "Epoch 37/50\n",
      "438/438 [==============================] - 5s 11ms/step - loss: 0.0369 - accuracy: 0.9945 - val_loss: 0.0362 - val_accuracy: 0.9939\n",
      "Epoch 38/50\n",
      "438/438 [==============================] - 5s 11ms/step - loss: 0.0402 - accuracy: 0.9921 - val_loss: 0.0413 - val_accuracy: 0.9902\n",
      "Epoch 39/50\n",
      "438/438 [==============================] - 5s 11ms/step - loss: 0.0579 - accuracy: 0.9861 - val_loss: 0.0349 - val_accuracy: 0.9934\n",
      "Epoch 40/50\n",
      "438/438 [==============================] - 5s 11ms/step - loss: 0.0318 - accuracy: 0.9942 - val_loss: 0.0316 - val_accuracy: 0.9946\n",
      "Epoch 41/50\n",
      "438/438 [==============================] - 5s 11ms/step - loss: 0.0395 - accuracy: 0.9917 - val_loss: 0.0436 - val_accuracy: 0.9888\n",
      "Epoch 42/50\n",
      "438/438 [==============================] - 5s 12ms/step - loss: 0.0307 - accuracy: 0.9936 - val_loss: 0.0407 - val_accuracy: 0.9894\n",
      "Epoch 43/50\n",
      "438/438 [==============================] - 5s 11ms/step - loss: 0.0494 - accuracy: 0.9860 - val_loss: 0.0239 - val_accuracy: 0.9955\n",
      "Epoch 44/50\n",
      "438/438 [==============================] - 5s 12ms/step - loss: 0.0197 - accuracy: 0.9971 - val_loss: 0.0215 - val_accuracy: 0.9959\n",
      "Epoch 45/50\n",
      "438/438 [==============================] - 5s 11ms/step - loss: 0.0296 - accuracy: 0.9938 - val_loss: 0.0313 - val_accuracy: 0.9924\n",
      "Epoch 46/50\n",
      "438/438 [==============================] - 5s 11ms/step - loss: 0.0579 - accuracy: 0.9822 - val_loss: 0.0345 - val_accuracy: 0.9923\n",
      "Epoch 47/50\n",
      "438/438 [==============================] - 5s 11ms/step - loss: 0.0222 - accuracy: 0.9964 - val_loss: 0.0167 - val_accuracy: 0.9973\n",
      "Epoch 48/50\n",
      "438/438 [==============================] - 5s 11ms/step - loss: 0.0122 - accuracy: 0.9988 - val_loss: 0.0197 - val_accuracy: 0.9949\n",
      "Epoch 49/50\n",
      "438/438 [==============================] - 5s 12ms/step - loss: 0.0407 - accuracy: 0.9885 - val_loss: 0.0734 - val_accuracy: 0.9757\n",
      "Epoch 50/50\n",
      "438/438 [==============================] - 5s 12ms/step - loss: 0.0183 - accuracy: 0.9967 - val_loss: 0.0148 - val_accuracy: 0.9973\n"
     ]
    }
   ],
   "source": [
    "history = model.fit(x_train, y_train, epochs=50, batch_size=32, validation_data=(x_val, y_val)) "
   ]
  },
  {
   "cell_type": "code",
   "execution_count": 175,
   "id": "641072f6",
   "metadata": {},
   "outputs": [
    {
     "name": "stdout",
     "output_type": "stream",
     "text": [
      "94/94 [==============================] - 0s 4ms/step - loss: 0.0163 - accuracy: 0.9973\n"
     ]
    },
    {
     "data": {
      "text/plain": [
       "[0.01632820814847946, 0.9972500205039978]"
      ]
     },
     "execution_count": 175,
     "metadata": {},
     "output_type": "execute_result"
    }
   ],
   "source": [
    "model.evaluate(x_test,y_test)"
   ]
  },
  {
   "cell_type": "markdown",
   "id": "feb2681a",
   "metadata": {},
   "source": [
    "### Results\n",
    "<li>128units, epochs=50, batch_size=64; <b>Test_acc ~ 0.9837</b></li>\n",
    "<li>128units, epochs=50, batch_size=100; <b>Test_acc ~ 0.9117</b></li>\n",
    "<li>128units, epochs=50, batch_size=32; <b>Test_acc ~ 0.9902</b></li>\n",
    "<li>64units, epochs=50, batch_size=64; <b>Test_acc ~ 0.8472</b></li>\n",
    "<li>256units, epochs=50, batch_size=64; <b>Too slow, 25sec/epoch</b></li>\n",
    "<li>128units, epochs=60, batch_size=64; <b>Test_acc ~ 0.9927</b></li>\n",
    "<li>128units, epochs=60, batch_size=32; <b>Test_acc ~ 0.9952</b></li>\n",
    "\n",
    "The improvement is usually minimal after 50 epochs so I will leave it at that and use the batch size of 32"
   ]
  },
  {
   "cell_type": "markdown",
   "id": "73afae7a",
   "metadata": {},
   "source": [
    "# Reverse query"
   ]
  },
  {
   "cell_type": "code",
   "execution_count": 177,
   "id": "9671f3f3",
   "metadata": {
    "scrolled": true
   },
   "outputs": [
    {
     "name": "stdout",
     "output_type": "stream",
     "text": [
      "['0+0', '0-0', '1+0', '1-0', '2+0', '2-0', '3+0', '3-0', '4+0', '4-0']\n",
      "['0+', '0+', '1+', '1-', '2+', '2-', '3+', '3-', '4+', '4-']\n"
     ]
    }
   ],
   "source": [
    "reversed_queries = [i[::-1] for i in queries]\n",
    "print(reversed_queries[0:10])\n",
    "reversed_answers = [i[::-1] for i in answers]\n",
    "print(reversed_answers[0:10])"
   ]
  },
  {
   "cell_type": "code",
   "execution_count": 178,
   "id": "42614d72",
   "metadata": {
    "scrolled": false
   },
   "outputs": [],
   "source": [
    "reversed_queries_encoded = [encode_string(i,True) for i in reversed_queries]"
   ]
  },
  {
   "cell_type": "code",
   "execution_count": 179,
   "id": "fed71e6f",
   "metadata": {},
   "outputs": [],
   "source": [
    "reversed_answers_encoded = [encode_string(i,False) for i in reversed_answers]"
   ]
  },
  {
   "cell_type": "code",
   "execution_count": 180,
   "id": "f06e088c",
   "metadata": {},
   "outputs": [],
   "source": [
    "from sklearn.model_selection import train_test_split\n",
    "\n",
    "x_train2, x_to_split, y_train2, y_to_split = train_test_split(reversed_queries_encoded, reversed_answers_encoded, test_size=0.3)\n",
    "x_val2, x_test2, y_val2, y_test2 = train_test_split(x_to_split, y_to_split, test_size=0.5)\n",
    "#shuffling is applied by default in the train_test_split\n",
    "#  shuffle : bool, default=True\n",
    "#    Whether or not to shuffle the data before splitting. If shuffle=False\n",
    "#    then stratify must be None."
   ]
  },
  {
   "cell_type": "code",
   "execution_count": 181,
   "id": "767311a7",
   "metadata": {},
   "outputs": [],
   "source": [
    "x_train2 = np.stack(x_train2)\n",
    "y_train2 = np.stack(y_train2)\n",
    "x_val2 = np.stack(x_val2)\n",
    "y_val2 = np.stack(y_val2)\n",
    "x_test2 = np.stack(x_test2)\n",
    "y_test2 = np.stack(y_test2)"
   ]
  },
  {
   "cell_type": "code",
   "execution_count": 182,
   "id": "9e67014b",
   "metadata": {},
   "outputs": [
    {
     "name": "stdout",
     "output_type": "stream",
     "text": [
      "(14000, 5, 13) (3000, 5, 13) (3000, 5, 13)\n",
      "(14000, 4, 13) (3000, 4, 13) (3000, 4, 13)\n"
     ]
    }
   ],
   "source": [
    "print(x_train.shape,x_val.shape,x_test.shape)\n",
    "print(y_train.shape,y_val.shape,y_test.shape)"
   ]
  },
  {
   "cell_type": "code",
   "execution_count": 184,
   "id": "dccf5755",
   "metadata": {
    "scrolled": true
   },
   "outputs": [
    {
     "name": "stdout",
     "output_type": "stream",
     "text": [
      "Epoch 1/50\n",
      "438/438 [==============================] - 12s 20ms/step - loss: 1.5067 - accuracy: 0.4347 - val_loss: 1.3147 - val_accuracy: 0.4975\n",
      "Epoch 2/50\n",
      "438/438 [==============================] - 6s 14ms/step - loss: 1.2700 - accuracy: 0.5132 - val_loss: 1.2008 - val_accuracy: 0.5415\n",
      "Epoch 3/50\n",
      "438/438 [==============================] - 6s 15ms/step - loss: 1.1272 - accuracy: 0.5692 - val_loss: 1.0702 - val_accuracy: 0.5903\n",
      "Epoch 4/50\n",
      "438/438 [==============================] - 7s 15ms/step - loss: 0.9811 - accuracy: 0.6243 - val_loss: 0.9121 - val_accuracy: 0.6598\n",
      "Epoch 5/50\n",
      "438/438 [==============================] - 6s 14ms/step - loss: 0.8887 - accuracy: 0.6665 - val_loss: 0.8336 - val_accuracy: 0.6991\n",
      "Epoch 6/50\n",
      "438/438 [==============================] - 6s 14ms/step - loss: 0.8236 - accuracy: 0.6943 - val_loss: 0.7744 - val_accuracy: 0.7168\n",
      "Epoch 7/50\n",
      "438/438 [==============================] - 6s 15ms/step - loss: 0.7734 - accuracy: 0.7158 - val_loss: 0.7326 - val_accuracy: 0.7405\n",
      "Epoch 8/50\n",
      "438/438 [==============================] - 6s 15ms/step - loss: 0.7159 - accuracy: 0.7396 - val_loss: 0.7118 - val_accuracy: 0.7262\n",
      "Epoch 9/50\n",
      "438/438 [==============================] - 6s 14ms/step - loss: 0.6611 - accuracy: 0.7576 - val_loss: 0.6182 - val_accuracy: 0.7737\n",
      "Epoch 10/50\n",
      "438/438 [==============================] - 6s 14ms/step - loss: 0.5811 - accuracy: 0.7840 - val_loss: 0.5249 - val_accuracy: 0.8080\n",
      "Epoch 11/50\n",
      "438/438 [==============================] - 4s 10ms/step - loss: 0.4858 - accuracy: 0.8241 - val_loss: 0.4453 - val_accuracy: 0.8382\n",
      "Epoch 12/50\n",
      "438/438 [==============================] - 6s 13ms/step - loss: 0.3966 - accuracy: 0.8695 - val_loss: 0.3764 - val_accuracy: 0.8813\n",
      "Epoch 13/50\n",
      "438/438 [==============================] - 6s 13ms/step - loss: 0.3233 - accuracy: 0.9094 - val_loss: 0.3023 - val_accuracy: 0.9176\n",
      "Epoch 14/50\n",
      "438/438 [==============================] - 6s 13ms/step - loss: 0.2604 - accuracy: 0.9358 - val_loss: 0.2558 - val_accuracy: 0.9371\n",
      "Epoch 15/50\n",
      "438/438 [==============================] - 6s 13ms/step - loss: 0.2104 - accuracy: 0.9528 - val_loss: 0.2589 - val_accuracy: 0.9352\n",
      "Epoch 16/50\n",
      "438/438 [==============================] - 5s 12ms/step - loss: 0.1679 - accuracy: 0.9660 - val_loss: 0.1511 - val_accuracy: 0.9716\n",
      "Epoch 17/50\n",
      "438/438 [==============================] - 6s 13ms/step - loss: 0.1300 - accuracy: 0.9765 - val_loss: 0.1118 - val_accuracy: 0.9821\n",
      "Epoch 18/50\n",
      "438/438 [==============================] - 6s 13ms/step - loss: 0.1013 - accuracy: 0.9835 - val_loss: 0.0898 - val_accuracy: 0.9876\n",
      "Epoch 19/50\n",
      "438/438 [==============================] - 5s 12ms/step - loss: 0.0943 - accuracy: 0.9824 - val_loss: 0.0714 - val_accuracy: 0.9899\n",
      "Epoch 20/50\n",
      "438/438 [==============================] - 5s 12ms/step - loss: 0.0853 - accuracy: 0.9827 - val_loss: 0.1463 - val_accuracy: 0.9588\n",
      "Epoch 21/50\n",
      "438/438 [==============================] - 6s 13ms/step - loss: 0.0497 - accuracy: 0.9943 - val_loss: 0.0424 - val_accuracy: 0.9957\n",
      "Epoch 22/50\n",
      "438/438 [==============================] - 6s 13ms/step - loss: 0.0509 - accuracy: 0.9917 - val_loss: 0.0439 - val_accuracy: 0.9934\n",
      "Epoch 23/50\n",
      "438/438 [==============================] - 5s 12ms/step - loss: 0.0619 - accuracy: 0.9861 - val_loss: 0.0652 - val_accuracy: 0.9833\n",
      "Epoch 24/50\n",
      "438/438 [==============================] - 4s 9ms/step - loss: 0.0269 - accuracy: 0.9974 - val_loss: 0.0234 - val_accuracy: 0.9979\n",
      "Epoch 25/50\n",
      "438/438 [==============================] - 5s 12ms/step - loss: 0.0332 - accuracy: 0.9940 - val_loss: 0.0191 - val_accuracy: 0.9981\n",
      "Epoch 26/50\n",
      "438/438 [==============================] - 5s 12ms/step - loss: 0.0230 - accuracy: 0.9963 - val_loss: 0.1436 - val_accuracy: 0.9580\n",
      "Epoch 27/50\n",
      "438/438 [==============================] - 6s 13ms/step - loss: 0.0437 - accuracy: 0.9887 - val_loss: 0.0138 - val_accuracy: 0.9994\n",
      "Epoch 28/50\n",
      "438/438 [==============================] - 5s 12ms/step - loss: 0.0096 - accuracy: 0.9999 - val_loss: 0.0104 - val_accuracy: 0.9995\n",
      "Epoch 29/50\n",
      "438/438 [==============================] - 5s 12ms/step - loss: 0.0073 - accuracy: 0.9999 - val_loss: 0.0084 - val_accuracy: 0.9998\n",
      "Epoch 30/50\n",
      "438/438 [==============================] - 5s 13ms/step - loss: 0.0684 - accuracy: 0.9815 - val_loss: 0.0221 - val_accuracy: 0.9967\n",
      "Epoch 31/50\n",
      "438/438 [==============================] - 5s 13ms/step - loss: 0.0128 - accuracy: 0.9987 - val_loss: 0.0088 - val_accuracy: 0.9995\n",
      "Epoch 32/50\n",
      "438/438 [==============================] - 6s 13ms/step - loss: 0.0058 - accuracy: 0.9999 - val_loss: 0.0065 - val_accuracy: 0.9998\n",
      "Epoch 33/50\n",
      "438/438 [==============================] - 6s 13ms/step - loss: 0.0044 - accuracy: 1.0000 - val_loss: 0.0056 - val_accuracy: 0.9998\n",
      "Epoch 34/50\n",
      "438/438 [==============================] - 6s 13ms/step - loss: 0.0036 - accuracy: 1.0000 - val_loss: 0.0047 - val_accuracy: 0.9997\n",
      "Epoch 35/50\n",
      "438/438 [==============================] - 5s 12ms/step - loss: 0.0046 - accuracy: 0.9995 - val_loss: 0.6016 - val_accuracy: 0.8674\n",
      "Epoch 36/50\n",
      "438/438 [==============================] - 6s 13ms/step - loss: 0.0780 - accuracy: 0.9777 - val_loss: 0.0426 - val_accuracy: 0.9862\n",
      "Epoch 37/50\n",
      "438/438 [==============================] - 6s 13ms/step - loss: 0.0198 - accuracy: 0.9953 - val_loss: 0.0086 - val_accuracy: 0.9989\n",
      "Epoch 38/50\n",
      "438/438 [==============================] - 6s 13ms/step - loss: 0.0181 - accuracy: 0.9956 - val_loss: 0.0690 - val_accuracy: 0.9788\n",
      "Epoch 39/50\n",
      "438/438 [==============================] - 5s 12ms/step - loss: 0.0308 - accuracy: 0.9913 - val_loss: 0.0072 - val_accuracy: 0.9993\n",
      "Epoch 40/50\n",
      "438/438 [==============================] - 4s 8ms/step - loss: 0.0033 - accuracy: 1.0000 - val_loss: 0.0046 - val_accuracy: 0.9997\n",
      "Epoch 41/50\n",
      "438/438 [==============================] - 5s 11ms/step - loss: 0.0025 - accuracy: 1.0000 - val_loss: 0.0034 - val_accuracy: 0.9999\n",
      "Epoch 42/50\n",
      "438/438 [==============================] - 5s 12ms/step - loss: 0.0021 - accuracy: 1.0000 - val_loss: 0.0030 - val_accuracy: 0.9998\n",
      "Epoch 43/50\n",
      "438/438 [==============================] - 6s 13ms/step - loss: 0.0018 - accuracy: 1.0000 - val_loss: 0.0026 - val_accuracy: 0.9999\n",
      "Epoch 44/50\n",
      "438/438 [==============================] - 6s 13ms/step - loss: 0.0015 - accuracy: 1.0000 - val_loss: 0.0024 - val_accuracy: 0.9999\n",
      "Epoch 45/50\n",
      "438/438 [==============================] - 6s 13ms/step - loss: 0.0013 - accuracy: 1.0000 - val_loss: 0.0020 - val_accuracy: 0.9999\n",
      "Epoch 46/50\n",
      "438/438 [==============================] - 5s 12ms/step - loss: 0.0011 - accuracy: 1.0000 - val_loss: 0.0017 - val_accuracy: 1.0000\n",
      "Epoch 47/50\n",
      "438/438 [==============================] - 6s 13ms/step - loss: 9.2473e-04 - accuracy: 1.0000 - val_loss: 0.0015 - val_accuracy: 0.9999\n",
      "Epoch 48/50\n",
      "438/438 [==============================] - 6s 13ms/step - loss: 7.9793e-04 - accuracy: 1.0000 - val_loss: 0.0013 - val_accuracy: 1.0000\n",
      "Epoch 49/50\n",
      "438/438 [==============================] - 5s 12ms/step - loss: 0.1053 - accuracy: 0.9723 - val_loss: 0.0201 - val_accuracy: 0.9960\n",
      "Epoch 50/50\n",
      "438/438 [==============================] - 6s 13ms/step - loss: 0.0162 - accuracy: 0.9963 - val_loss: 0.0101 - val_accuracy: 0.9977\n"
     ]
    }
   ],
   "source": [
    "model2 = models.Sequential()\n",
    "model2.add(layers.LSTM(128, input_shape=(5, 13), return_sequences=False))\n",
    "model2.add(layers.RepeatVector(4))\n",
    "model2.add(layers.LSTM(128, return_sequences=True))\n",
    "model2.add(layers.Dense(13, activation=\"softmax\"))\n",
    "model2.compile(loss='categorical_crossentropy', optimizer=\"adam\", metrics=['accuracy'])\n",
    "history2 = model2.fit(x_train2, y_train2, epochs=50, batch_size=32, validation_data=(x_val2, y_val2)) "
   ]
  },
  {
   "cell_type": "code",
   "execution_count": 185,
   "id": "080cc998",
   "metadata": {},
   "outputs": [
    {
     "name": "stdout",
     "output_type": "stream",
     "text": [
      "94/94 [==============================] - 0s 5ms/step - loss: 0.0119 - accuracy: 0.9974\n"
     ]
    },
    {
     "data": {
      "text/plain": [
       "[0.011931635439395905, 0.9974166750907898]"
      ]
     },
     "execution_count": 185,
     "metadata": {},
     "output_type": "execute_result"
    }
   ],
   "source": [
    "model2.evaluate(x_test2,y_test2)"
   ]
  },
  {
   "cell_type": "markdown",
   "id": "a04110df",
   "metadata": {},
   "source": [
    "# Comparison"
   ]
  },
  {
   "cell_type": "code",
   "execution_count": 186,
   "id": "c4b1c4d3",
   "metadata": {},
   "outputs": [],
   "source": [
    "import matplotlib.pyplot as plt"
   ]
  },
  {
   "cell_type": "code",
   "execution_count": 196,
   "id": "64cb4dc4",
   "metadata": {},
   "outputs": [
    {
     "data": {
      "image/png": "[encoded data removed]",
      "text/plain": [
       "<Figure size 640x480 with 1 Axes>"
      ]
     },
     "metadata": {},
     "output_type": "display_data"
    }
   ],
   "source": [
    "plt.plot(history.history[\"accuracy\"],\"-o\")\n",
    "plt.plot(history2.history[\"accuracy\"],\"-o\")\n",
    "plt.legend([\"Baseline Accuracy\",\"Reversed Accuracy\"])\n",
    "plt.title(\"Accuracy Comparison\")\n",
    "plt.xlabel(\"Epochs\")\n",
    "plt.ylabel(\"Accuracy\")\n",
    "plt.ylim(0, 1)\n",
    "plt.plot();"
   ]
  }
 ],
 "metadata": {
  "kernelspec": {
   "display_name": "Python 3 (ipykernel)",
   "language": "python",
   "name": "python3"
  },
  "language_info": {
   "codemirror_mode": {
    "name": "ipython",
    "version": 3
   },
   "file_extension": ".py",
   "mimetype": "text/x-python",
   "name": "python",
   "nbconvert_exporter": "python",
   "pygments_lexer": "ipython3",
   "version": "3.9.13"
  }
 },
 "nbformat": 4,
 "nbformat_minor": 5
}
