{
 "cells": [
  {
   "cell_type": "markdown",
   "id": "cc1df7dd",
   "metadata": {},
   "source": [
    "# Import"
   ]
  },
  {
   "cell_type": "code",
   "execution_count": 4,
   "id": "971107f5",
   "metadata": {},
   "outputs": [],
   "source": [
    "import pickle\n",
    "path1=\"\"\n",
    "path2=\"\"\n",
    "with open(path1, 'rb') as fo:\n",
    "    train_data_full = pickle.load(fo,encoding=\"latin-1\")\n",
    "with open(path2, 'rb') as fo:\n",
    "    test_data_full = pickle.load(fo,encoding=\"latin-1\")"
   ]
  },
  {
   "cell_type": "code",
   "execution_count": 5,
   "id": "d9eeae56",
   "metadata": {},
   "outputs": [
    {
     "name": "stdout",
     "output_type": "stream",
     "text": [
      "50000 10000\n"
     ]
    }
   ],
   "source": [
    "print(len(train_data_full[\"filenames\"]),len(test_data_full[\"filenames\"]))"
   ]
  },
  {
   "cell_type": "code",
   "execution_count": 6,
   "id": "b4d07ad8",
   "metadata": {},
   "outputs": [
    {
     "data": {
      "text/plain": [
       "dict_keys(['filenames', 'batch_label', 'fine_labels', 'coarse_labels', 'data'])"
      ]
     },
     "execution_count": 6,
     "metadata": {},
     "output_type": "execute_result"
    }
   ],
   "source": [
    "train_data_full.keys()"
   ]
  },
  {
   "cell_type": "code",
   "execution_count": 7,
   "id": "08e1bb38",
   "metadata": {
    "scrolled": false
   },
   "outputs": [
    {
     "name": "stdout",
     "output_type": "stream",
     "text": [
      "bos_taurus_s_000507.png\n",
      "t\n",
      "19\n",
      "11\n",
      "[255 255 255 ...  10  59  79]\n"
     ]
    }
   ],
   "source": [
    "print(train_data_full[\"filenames\"][0])\n",
    "print(train_data_full[\"batch_label\"][0])\n",
    "print(train_data_full[\"fine_labels\"][0])\n",
    "print(train_data_full[\"coarse_labels\"][0])\n",
    "print(train_data_full[\"data\"][0])"
   ]
  },
  {
   "cell_type": "markdown",
   "id": "c4152d82",
   "metadata": {},
   "source": [
    "# Data division"
   ]
  },
  {
   "cell_type": "code",
   "execution_count": 8,
   "id": "820b52e3",
   "metadata": {},
   "outputs": [],
   "source": [
    "x_train = train_data_full[\"data\"]\n",
    "y_train = train_data_full[\"fine_labels\"]"
   ]
  },
  {
   "cell_type": "code",
   "execution_count": 9,
   "id": "1fe3e1dd",
   "metadata": {
    "scrolled": true
   },
   "outputs": [
    {
     "name": "stdout",
     "output_type": "stream",
     "text": [
      "50000 50000\n"
     ]
    }
   ],
   "source": [
    "print(len(x_train),len(y_train))"
   ]
  },
  {
   "cell_type": "code",
   "execution_count": 10,
   "id": "2d3c44ee",
   "metadata": {},
   "outputs": [],
   "source": [
    "from sklearn.model_selection import train_test_split\n",
    "\n",
    "r = 0.2\n",
    "x_subtrain_raw, x_val_raw, y_subtrain_raw, y_val_raw = train_test_split(x_train, y_train, test_size=r)"
   ]
  },
  {
   "cell_type": "markdown",
   "id": "eebf0872",
   "metadata": {},
   "source": [
    "### Train and evaluate data"
   ]
  },
  {
   "cell_type": "code",
   "execution_count": 11,
   "id": "8d4e1d24",
   "metadata": {},
   "outputs": [
    {
     "name": "stdout",
     "output_type": "stream",
     "text": [
      "40000 40000 10000 10000\n"
     ]
    }
   ],
   "source": [
    "print(len(x_subtrain_raw),len(y_subtrain_raw),len(x_val_raw),len(y_val_raw))"
   ]
  },
  {
   "cell_type": "code",
   "execution_count": 12,
   "id": "8f450650",
   "metadata": {},
   "outputs": [
    {
     "data": {
      "text/plain": [
       "3072"
      ]
     },
     "execution_count": 12,
     "metadata": {},
     "output_type": "execute_result"
    }
   ],
   "source": [
    "len(x_subtrain_raw[0])"
   ]
  },
  {
   "cell_type": "code",
   "execution_count": 13,
   "id": "31aa0947",
   "metadata": {},
   "outputs": [],
   "source": [
    "import numpy as np\n",
    "def shaping(array):\n",
    "    #print(array[0:1024])\n",
    "    #print(array[1024:2048])\n",
    "    #print(array[2048:3072]) #just showing the 3 channels\n",
    "    reshaped = array.reshape(3,1024) #we create a 3*1024 dimensionality for the 3 color channels\n",
    "    red_channel = reshaped[0].reshape(32, 32)\n",
    "    green_channel = reshaped[1].reshape(32, 32)\n",
    "    blue_channel = reshaped[2].reshape(32, 32) #for each channel, we turn the 1024 into 2 dimensions of 32*32.\n",
    "    ##print(red_channel.shape,red_channel) #printing for verification\n",
    "    x_reshaped = np.stack((red_channel,green_channel,blue_channel),axis=2)\n",
    "    #print(x_subtrain.shape) #printing shape which should be 32 * 32 * 3\n",
    "    return x_reshaped"
   ]
  },
  {
   "cell_type": "code",
   "execution_count": 14,
   "id": "75d49195",
   "metadata": {},
   "outputs": [],
   "source": [
    "x_subtrain_raw = [x/255 for x in x_subtrain_raw] \n",
    "x_val_raw = [x/255 for x in x_val_raw]"
   ]
  },
  {
   "cell_type": "code",
   "execution_count": 15,
   "id": "163f3a5f",
   "metadata": {},
   "outputs": [],
   "source": [
    "x_subtrain = [shaping(x) for x in x_subtrain_raw]\n",
    "x_val = [shaping(x) for x in x_val_raw]"
   ]
  },
  {
   "cell_type": "code",
   "execution_count": 16,
   "id": "07d160ec",
   "metadata": {},
   "outputs": [
    {
     "name": "stdout",
     "output_type": "stream",
     "text": [
      "40000 (32, 32, 3)\n",
      "10000 (32, 32, 3)\n",
      "(40000, 32, 32, 3) (10000, 32, 32, 3)\n"
     ]
    }
   ],
   "source": [
    "print(len(x_subtrain),x_subtrain[0].shape)\n",
    "print(len(x_val),x_val[0].shape)\n",
    "x_subtrain = np.stack(x_subtrain,axis=0)\n",
    "x_val = np.stack(x_val,axis=0)\n",
    "print(x_subtrain.shape,x_val.shape)"
   ]
  },
  {
   "cell_type": "code",
   "execution_count": 17,
   "id": "e22f96e0",
   "metadata": {},
   "outputs": [],
   "source": [
    "from keras.utils import to_categorical\n",
    "\n",
    "y_subtrain = to_categorical(y_subtrain_raw, 100)\n",
    "y_val = to_categorical(y_val_raw, 100)"
   ]
  },
  {
   "cell_type": "code",
   "execution_count": 18,
   "id": "3622b835",
   "metadata": {},
   "outputs": [
    {
     "data": {
      "text/plain": [
       "array([0., 0., 0., 0., 0., 0., 0., 0., 0., 0., 0., 0., 0., 0., 0., 0., 0.,\n",
       "       0., 0., 0., 0., 0., 0., 0., 0., 0., 0., 0., 0., 0., 0., 0., 0., 0.,\n",
       "       0., 0., 0., 0., 0., 0., 0., 0., 0., 0., 0., 0., 0., 0., 0., 0., 0.,\n",
       "       0., 0., 0., 0., 0., 0., 0., 0., 0., 0., 0., 0., 0., 0., 0., 0., 0.,\n",
       "       0., 0., 0., 0., 0., 0., 0., 0., 0., 0., 0., 0., 0., 0., 0., 0., 0.,\n",
       "       0., 1., 0., 0., 0., 0., 0., 0., 0., 0., 0., 0., 0., 0., 0.],\n",
       "      dtype=float32)"
      ]
     },
     "execution_count": 18,
     "metadata": {},
     "output_type": "execute_result"
    }
   ],
   "source": [
    "y_subtrain[0]"
   ]
  },
  {
   "cell_type": "markdown",
   "id": "5c86613c",
   "metadata": {},
   "source": [
    "### Test data"
   ]
  },
  {
   "cell_type": "code",
   "execution_count": 19,
   "id": "06813aee",
   "metadata": {},
   "outputs": [],
   "source": [
    "from keras.utils import to_categorical\n",
    "\n",
    "x_test_raw = test_data_full[\"data\"]\n",
    "y_test_raw = test_data_full[\"fine_labels\"]\n",
    "\n",
    "x_test_raw = [x/255 for x in x_test_raw] \n",
    "x_test = [shaping(x) for x in x_test_raw]\n",
    "\n",
    "x_test = np.stack(x_test,axis=0)\n",
    "y_test = to_categorical(y_test_raw, 100)"
   ]
  },
  {
   "cell_type": "markdown",
   "id": "239ca607",
   "metadata": {},
   "source": [
    "# Models"
   ]
  },
  {
   "cell_type": "code",
   "execution_count": 31,
   "id": "0bf88b13",
   "metadata": {},
   "outputs": [],
   "source": [
    "from keras import layers\n",
    "from keras import models\n",
    "from keras import optimizers\n",
    "import matplotlib.pyplot as plt\n",
    "from keras.regularizers import l2\n"
   ]
  },
  {
   "cell_type": "markdown",
   "id": "6d59bf55",
   "metadata": {},
   "source": [
    "### Model 1"
   ]
  },
  {
   "cell_type": "code",
   "execution_count": 115,
   "id": "4c6e9f9a",
   "metadata": {},
   "outputs": [
    {
     "name": "stdout",
     "output_type": "stream",
     "text": [
      "Model: \"sequential_23\"\n",
      "_________________________________________________________________\n",
      " Layer (type)                Output Shape              Param #   \n",
      "=================================================================\n",
      " conv2d_118 (Conv2D)         (None, 30, 30, 32)        896       \n",
      "                                                                 \n",
      " max_pooling2d_53 (MaxPoolin  (None, 15, 15, 32)       0         \n",
      " g2D)                                                            \n",
      "                                                                 \n",
      " conv2d_119 (Conv2D)         (None, 13, 13, 64)        18496     \n",
      "                                                                 \n",
      " max_pooling2d_54 (MaxPoolin  (None, 6, 6, 64)         0         \n",
      " g2D)                                                            \n",
      "                                                                 \n",
      " conv2d_120 (Conv2D)         (None, 4, 4, 64)          36928     \n",
      "                                                                 \n",
      " flatten_23 (Flatten)        (None, 1024)              0         \n",
      "                                                                 \n",
      " dense_69 (Dense)            (None, 1024)              1049600   \n",
      "                                                                 \n",
      " dense_70 (Dense)            (None, 100)               102500    \n",
      "                                                                 \n",
      "=================================================================\n",
      "Total params: 1,208,420\n",
      "Trainable params: 1,208,420\n",
      "Non-trainable params: 0\n",
      "_________________________________________________________________\n"
     ]
    }
   ],
   "source": [
    "model1 = models.Sequential()\n",
    "\n",
    "model1.add(layers.Conv2D(32, (3, 3), activation='relu', input_shape=(32, 32, 3)))\n",
    "model1.add(layers.MaxPooling2D((2, 2)))\n",
    "model1.add(layers.Conv2D(64, (3, 3), activation='relu'))\n",
    "model1.add(layers.MaxPooling2D((2, 2)))\n",
    "model1.add(layers.Conv2D(64, (3, 3), activation='relu'))\n",
    "model1.add(layers.Flatten())\n",
    "model1.add(layers.Dense(1024, activation='relu'))\n",
    "model1.add(layers.Dense(100, activation='softmax'))\n",
    "\n",
    "model1.compile(optimizer='adam',\n",
    "              loss='categorical_crossentropy',\n",
    "              metrics=['accuracy'])\n",
    "\n",
    "model1.summary()"
   ]
  },
  {
   "cell_type": "code",
   "execution_count": 116,
   "id": "c1edcd1a",
   "metadata": {},
   "outputs": [
    {
     "name": "stdout",
     "output_type": "stream",
     "text": [
      "Epoch 1/10\n",
      "320/320 [==============================] - 15s 43ms/step - loss: 3.9580 - accuracy: 0.0966 - val_loss: 3.5589 - val_accuracy: 0.1612\n",
      "Epoch 2/10\n",
      "320/320 [==============================] - 14s 43ms/step - loss: 3.3094 - accuracy: 0.2023 - val_loss: 3.1763 - val_accuracy: 0.2323\n",
      "Epoch 3/10\n",
      "320/320 [==============================] - 14s 44ms/step - loss: 2.9687 - accuracy: 0.2652 - val_loss: 2.9754 - val_accuracy: 0.2656\n",
      "Epoch 4/10\n",
      "320/320 [==============================] - 15s 45ms/step - loss: 2.7099 - accuracy: 0.3194 - val_loss: 2.8811 - val_accuracy: 0.2896\n",
      "Epoch 5/10\n",
      "320/320 [==============================] - 14s 44ms/step - loss: 2.4767 - accuracy: 0.3612 - val_loss: 2.8763 - val_accuracy: 0.2931\n",
      "Epoch 6/10\n",
      "320/320 [==============================] - 13s 42ms/step - loss: 2.2582 - accuracy: 0.4106 - val_loss: 2.7704 - val_accuracy: 0.3175\n",
      "Epoch 7/10\n",
      "320/320 [==============================] - 14s 42ms/step - loss: 2.0182 - accuracy: 0.4602 - val_loss: 2.7881 - val_accuracy: 0.3269\n",
      "Epoch 8/10\n",
      "320/320 [==============================] - 13s 42ms/step - loss: 1.7849 - accuracy: 0.5144 - val_loss: 2.9279 - val_accuracy: 0.3199\n",
      "Epoch 9/10\n",
      "320/320 [==============================] - 14s 42ms/step - loss: 1.5309 - accuracy: 0.5744 - val_loss: 3.0062 - val_accuracy: 0.3225\n",
      "Epoch 10/10\n",
      "320/320 [==============================] - 13s 41ms/step - loss: 1.2819 - accuracy: 0.6362 - val_loss: 3.2072 - val_accuracy: 0.3296\n"
     ]
    }
   ],
   "source": [
    "history1 = model1.fit(x_subtrain, y_subtrain, batch_size=100, epochs=10,validation_split=0.2)\n"
   ]
  },
  {
   "cell_type": "code",
   "execution_count": 117,
   "id": "7b965940",
   "metadata": {},
   "outputs": [],
   "source": [
    "model1.save(\"model1.keras\")"
   ]
  },
  {
   "cell_type": "code",
   "execution_count": 123,
   "id": "d948b43e",
   "metadata": {
    "scrolled": true
   },
   "outputs": [
    {
     "data": {
      "text/plain": [
       "<matplotlib.legend.Legend at 0x2bb8835c760>"
      ]
     },
     "execution_count": 123,
     "metadata": {},
     "output_type": "execute_result"
    },
    {
     "data": {
      "image/png": "[encoded data removed]",
      "text/plain": [
       "<Figure size 640x480 with 1 Axes>"
      ]
     },
     "metadata": {},
     "output_type": "display_data"
    }
   ],
   "source": [
    "plt.plot(history1.history[\"accuracy\"])\n",
    "plt.plot(history1.history[\"val_accuracy\"])\n",
    "plt.legend([\"Accuracy\",\"Val_accuracy\"])"
   ]
  },
  {
   "cell_type": "markdown",
   "id": "5fdb8d87",
   "metadata": {},
   "source": [
    "### Model 2 "
   ]
  },
  {
   "cell_type": "code",
   "execution_count": 119,
   "id": "dc174375",
   "metadata": {
    "scrolled": false
   },
   "outputs": [
    {
     "name": "stdout",
     "output_type": "stream",
     "text": [
      "Model: \"sequential_24\"\n",
      "_________________________________________________________________\n",
      " Layer (type)                Output Shape              Param #   \n",
      "=================================================================\n",
      " conv2d_121 (Conv2D)         (None, 32, 32, 32)        896       \n",
      "                                                                 \n",
      " conv2d_122 (Conv2D)         (None, 32, 32, 32)        9248      \n",
      "                                                                 \n",
      " max_pooling2d_55 (MaxPoolin  (None, 16, 16, 32)       0         \n",
      " g2D)                                                            \n",
      "                                                                 \n",
      " conv2d_123 (Conv2D)         (None, 16, 16, 64)        18496     \n",
      "                                                                 \n",
      " conv2d_124 (Conv2D)         (None, 16, 16, 64)        36928     \n",
      "                                                                 \n",
      " max_pooling2d_56 (MaxPoolin  (None, 8, 8, 64)         0         \n",
      " g2D)                                                            \n",
      "                                                                 \n",
      " conv2d_125 (Conv2D)         (None, 8, 8, 128)         73856     \n",
      "                                                                 \n",
      " conv2d_126 (Conv2D)         (None, 8, 8, 128)         147584    \n",
      "                                                                 \n",
      " flatten_24 (Flatten)        (None, 8192)              0         \n",
      "                                                                 \n",
      " dense_71 (Dense)            (None, 256)               2097408   \n",
      "                                                                 \n",
      " dense_72 (Dense)            (None, 100)               25700     \n",
      "                                                                 \n",
      "=================================================================\n",
      "Total params: 2,410,116\n",
      "Trainable params: 2,410,116\n",
      "Non-trainable params: 0\n",
      "_________________________________________________________________\n"
     ]
    }
   ],
   "source": [
    "model2 = models.Sequential()\n",
    "\n",
    "model2.add(layers.Conv2D(32, (3, 3), activation='relu', padding=\"same\",input_shape=(32, 32, 3)))\n",
    "model2.add(layers.Conv2D(32, (3, 3), activation='relu', padding=\"same\"))\n",
    "model2.add(layers.MaxPooling2D((2, 2)))\n",
    "model2.add(layers.Conv2D(64, (3, 3),padding=\"same\" ,activation='relu'))\n",
    "model2.add(layers.Conv2D(64, (3, 3),padding=\"same\" ,activation='relu'))\n",
    "model2.add(layers.MaxPooling2D((2, 2)))\n",
    "model2.add(layers.Conv2D(128, (3, 3),padding=\"same\" ,activation='relu'))\n",
    "model2.add(layers.Conv2D(128, (3, 3),padding=\"same\" ,activation='relu'))\n",
    "model2.add(layers.Flatten())\n",
    "model2.add(layers.Dense(256, activation='relu'))\n",
    "model2.add(layers.Dense(100, activation='softmax'))\n",
    "\n",
    "model2.compile(optimizer='adam',\n",
    "              loss='categorical_crossentropy',\n",
    "              metrics=['accuracy'])\n",
    "\n",
    "model2.summary()"
   ]
  },
  {
   "cell_type": "code",
   "execution_count": 120,
   "id": "5de767dd",
   "metadata": {},
   "outputs": [
    {
     "name": "stdout",
     "output_type": "stream",
     "text": [
      "Epoch 1/10\n",
      "320/320 [==============================] - 46s 141ms/step - loss: 4.2059 - accuracy: 0.0518 - val_loss: 3.7344 - val_accuracy: 0.1252\n",
      "Epoch 2/10\n",
      "320/320 [==============================] - 45s 142ms/step - loss: 3.4978 - accuracy: 0.1681 - val_loss: 3.3579 - val_accuracy: 0.2020\n",
      "Epoch 3/10\n",
      "320/320 [==============================] - 45s 142ms/step - loss: 3.0426 - accuracy: 0.2502 - val_loss: 3.0751 - val_accuracy: 0.2544\n",
      "Epoch 4/10\n",
      "320/320 [==============================] - 46s 142ms/step - loss: 2.6763 - accuracy: 0.3254 - val_loss: 2.8882 - val_accuracy: 0.2954\n",
      "Epoch 5/10\n",
      "320/320 [==============================] - 46s 144ms/step - loss: 2.3057 - accuracy: 0.4062 - val_loss: 2.8769 - val_accuracy: 0.3116\n",
      "Epoch 6/10\n",
      "320/320 [==============================] - 46s 144ms/step - loss: 1.9313 - accuracy: 0.4854 - val_loss: 2.8911 - val_accuracy: 0.3217\n",
      "Epoch 7/10\n",
      "320/320 [==============================] - 45s 142ms/step - loss: 1.5174 - accuracy: 0.5833 - val_loss: 3.2548 - val_accuracy: 0.3129\n",
      "Epoch 8/10\n",
      "320/320 [==============================] - 46s 144ms/step - loss: 1.1102 - accuracy: 0.6869 - val_loss: 3.6800 - val_accuracy: 0.3016\n",
      "Epoch 9/10\n",
      "320/320 [==============================] - 47s 146ms/step - loss: 0.7550 - accuracy: 0.7783 - val_loss: 4.4878 - val_accuracy: 0.2944\n",
      "Epoch 10/10\n",
      "320/320 [==============================] - 46s 143ms/step - loss: 0.5077 - accuracy: 0.8437 - val_loss: 5.1093 - val_accuracy: 0.2828\n"
     ]
    }
   ],
   "source": [
    "history2 = model2.fit(x_subtrain, y_subtrain, batch_size=100, epochs=10,validation_split=0.2)\n"
   ]
  },
  {
   "cell_type": "code",
   "execution_count": 121,
   "id": "1beaa329",
   "metadata": {},
   "outputs": [],
   "source": [
    "model2.save(\"model2.keras\")"
   ]
  },
  {
   "cell_type": "code",
   "execution_count": 127,
   "id": "c66578ac",
   "metadata": {
    "scrolled": true
   },
   "outputs": [
    {
     "data": {
      "image/png": "[encoded data removed]",
      "text/plain": [
       "<Figure size 640x480 with 1 Axes>"
      ]
     },
     "metadata": {},
     "output_type": "display_data"
    }
   ],
   "source": [
    "plt.plot(history2.history[\"accuracy\"])\n",
    "plt.plot(history2.history[\"val_accuracy\"])\n",
    "plt.legend([\"Accuracy\",\"Val_accuracy\"])\n",
    "plt.xlabel(\"Epochs\")\n",
    "plt.ylabel(\"Accuracy\")\n",
    "plt.title(\"Model 2\");"
   ]
  },
  {
   "cell_type": "markdown",
   "id": "ef9369e8",
   "metadata": {},
   "source": [
    "### Model 3"
   ]
  },
  {
   "cell_type": "code",
   "execution_count": 128,
   "id": "8a26b820",
   "metadata": {
    "scrolled": false
   },
   "outputs": [
    {
     "name": "stdout",
     "output_type": "stream",
     "text": [
      "Model: \"sequential_25\"\n",
      "_________________________________________________________________\n",
      " Layer (type)                Output Shape              Param #   \n",
      "=================================================================\n",
      " conv2d_127 (Conv2D)         (None, 32, 32, 32)        896       \n",
      "                                                                 \n",
      " dropout_38 (Dropout)        (None, 32, 32, 32)        0         \n",
      "                                                                 \n",
      " conv2d_128 (Conv2D)         (None, 32, 32, 32)        9248      \n",
      "                                                                 \n",
      " batch_normalization_51 (Bat  (None, 32, 32, 32)       128       \n",
      " chNormalization)                                                \n",
      "                                                                 \n",
      " max_pooling2d_57 (MaxPoolin  (None, 16, 16, 32)       0         \n",
      " g2D)                                                            \n",
      "                                                                 \n",
      " conv2d_129 (Conv2D)         (None, 16, 16, 64)        18496     \n",
      "                                                                 \n",
      " dropout_39 (Dropout)        (None, 16, 16, 64)        0         \n",
      "                                                                 \n",
      " conv2d_130 (Conv2D)         (None, 16, 16, 64)        36928     \n",
      "                                                                 \n",
      " batch_normalization_52 (Bat  (None, 16, 16, 64)       256       \n",
      " chNormalization)                                                \n",
      "                                                                 \n",
      " max_pooling2d_58 (MaxPoolin  (None, 8, 8, 64)         0         \n",
      " g2D)                                                            \n",
      "                                                                 \n",
      " conv2d_131 (Conv2D)         (None, 8, 8, 128)         73856     \n",
      "                                                                 \n",
      " conv2d_132 (Conv2D)         (None, 8, 8, 128)         147584    \n",
      "                                                                 \n",
      " flatten_25 (Flatten)        (None, 8192)              0         \n",
      "                                                                 \n",
      " dense_73 (Dense)            (None, 1024)              8389632   \n",
      "                                                                 \n",
      " dense_74 (Dense)            (None, 256)               262400    \n",
      "                                                                 \n",
      " dense_75 (Dense)            (None, 100)               25700     \n",
      "                                                                 \n",
      "=================================================================\n",
      "Total params: 8,965,124\n",
      "Trainable params: 8,964,932\n",
      "Non-trainable params: 192\n",
      "_________________________________________________________________\n"
     ]
    }
   ],
   "source": [
    "model3 = models.Sequential()\n",
    "\n",
    "model3.add(layers.Conv2D(32, (3, 3), activation='relu', padding=\"same\",input_shape=(32, 32, 3)))\n",
    "model3.add(layers.Dropout(0.25))\n",
    "model3.add(layers.Conv2D(32, (3, 3), activation='relu', padding=\"same\"))\n",
    "model3.add(layers.BatchNormalization())\n",
    "model3.add(layers.MaxPooling2D((2, 2)))\n",
    "model3.add(layers.Conv2D(64, (3, 3),padding=\"same\" ,activation='relu'))\n",
    "model3.add(layers.Dropout(0.25))\n",
    "model3.add(layers.Conv2D(64, (3, 3),padding=\"same\" ,activation='relu'))\n",
    "model3.add(layers.BatchNormalization())\n",
    "model3.add(layers.MaxPooling2D((2, 2)))\n",
    "model3.add(layers.Conv2D(128, (3, 3),padding=\"same\" ,activation='relu'))\n",
    "model3.add(layers.Conv2D(128, (3, 3),padding=\"same\" ,activation='relu'))\n",
    "model3.add(layers.Flatten())\n",
    "model3.add(layers.Dense(1024, activation='relu'))\n",
    "model3.add(layers.Dense(256, activation='relu'))\n",
    "model3.add(layers.Dense(100, activation='softmax'))\n",
    "\n",
    "model3.compile(optimizer='adam',\n",
    "              loss='categorical_crossentropy',\n",
    "              metrics=['accuracy'])\n",
    "\n",
    "model3.summary()"
   ]
  },
  {
   "cell_type": "code",
   "execution_count": 129,
   "id": "d7397501",
   "metadata": {},
   "outputs": [
    {
     "name": "stdout",
     "output_type": "stream",
     "text": [
      "Epoch 1/10\n",
      "320/320 [==============================] - 73s 224ms/step - loss: 4.0553 - accuracy: 0.0827 - val_loss: 4.8853 - val_accuracy: 0.0196\n",
      "Epoch 2/10\n",
      "320/320 [==============================] - 71s 221ms/step - loss: 3.4081 - accuracy: 0.1828 - val_loss: 3.4746 - val_accuracy: 0.1759\n",
      "Epoch 3/10\n",
      "320/320 [==============================] - 71s 221ms/step - loss: 2.9637 - accuracy: 0.2658 - val_loss: 3.1308 - val_accuracy: 0.2459\n",
      "Epoch 4/10\n",
      "320/320 [==============================] - 72s 225ms/step - loss: 2.5131 - accuracy: 0.3555 - val_loss: 3.0374 - val_accuracy: 0.2729\n",
      "Epoch 5/10\n",
      "320/320 [==============================] - 72s 226ms/step - loss: 1.9913 - accuracy: 0.4685 - val_loss: 3.2997 - val_accuracy: 0.2630\n",
      "Epoch 6/10\n",
      "320/320 [==============================] - 72s 224ms/step - loss: 1.3427 - accuracy: 0.6242 - val_loss: 3.8689 - val_accuracy: 0.2599\n",
      "Epoch 7/10\n",
      "320/320 [==============================] - 71s 222ms/step - loss: 0.7880 - accuracy: 0.7695 - val_loss: 4.4538 - val_accuracy: 0.2492\n",
      "Epoch 8/10\n",
      "320/320 [==============================] - 71s 220ms/step - loss: 0.4915 - accuracy: 0.8521 - val_loss: 5.0210 - val_accuracy: 0.2553\n",
      "Epoch 9/10\n",
      "320/320 [==============================] - 72s 226ms/step - loss: 0.3688 - accuracy: 0.8880 - val_loss: 5.9000 - val_accuracy: 0.2525\n",
      "Epoch 10/10\n",
      "320/320 [==============================] - 72s 225ms/step - loss: 0.2762 - accuracy: 0.9148 - val_loss: 5.9497 - val_accuracy: 0.2491\n"
     ]
    }
   ],
   "source": [
    "history3 = model3.fit(x_subtrain, y_subtrain, batch_size=100, epochs=10,validation_split=0.2)\n"
   ]
  },
  {
   "cell_type": "code",
   "execution_count": 130,
   "id": "6a118da1",
   "metadata": {},
   "outputs": [],
   "source": [
    "model3.save(\"model3.keras\")"
   ]
  },
  {
   "cell_type": "code",
   "execution_count": 131,
   "id": "e23ab9fd",
   "metadata": {
    "scrolled": false
   },
   "outputs": [
    {
     "data": {
      "image/png": "[encoded data removed]",
      "text/plain": [
       "<Figure size 640x480 with 1 Axes>"
      ]
     },
     "metadata": {},
     "output_type": "display_data"
    }
   ],
   "source": [
    "plt.plot(history3.history[\"accuracy\"])\n",
    "plt.plot(history3.history[\"val_accuracy\"])\n",
    "plt.legend([\"Accuracy\",\"Val_accuracy\"])\n",
    "plt.xlabel(\"Epochs\")\n",
    "plt.ylabel(\"Accuracy\")\n",
    "plt.title(\"Model 3\");"
   ]
  },
  {
   "cell_type": "markdown",
   "id": "82243d64",
   "metadata": {},
   "source": [
    "### Model 4"
   ]
  },
  {
   "cell_type": "code",
   "execution_count": 132,
   "id": "07f63194",
   "metadata": {
    "scrolled": false
   },
   "outputs": [
    {
     "name": "stdout",
     "output_type": "stream",
     "text": [
      "Model: \"sequential_26\"\n",
      "_________________________________________________________________\n",
      " Layer (type)                Output Shape              Param #   \n",
      "=================================================================\n",
      " conv2d_133 (Conv2D)         (None, 32, 32, 32)        896       \n",
      "                                                                 \n",
      " conv2d_134 (Conv2D)         (None, 32, 32, 32)        9248      \n",
      "                                                                 \n",
      " max_pooling2d_59 (MaxPoolin  (None, 16, 16, 32)       0         \n",
      " g2D)                                                            \n",
      "                                                                 \n",
      " conv2d_135 (Conv2D)         (None, 16, 16, 64)        18496     \n",
      "                                                                 \n",
      " conv2d_136 (Conv2D)         (None, 16, 16, 64)        36928     \n",
      "                                                                 \n",
      " max_pooling2d_60 (MaxPoolin  (None, 8, 8, 64)         0         \n",
      " g2D)                                                            \n",
      "                                                                 \n",
      " conv2d_137 (Conv2D)         (None, 8, 8, 128)         73856     \n",
      "                                                                 \n",
      " conv2d_138 (Conv2D)         (None, 8, 8, 128)         147584    \n",
      "                                                                 \n",
      " flatten_26 (Flatten)        (None, 8192)              0         \n",
      "                                                                 \n",
      " dense_76 (Dense)            (None, 1024)              8389632   \n",
      "                                                                 \n",
      " dense_77 (Dense)            (None, 256)               262400    \n",
      "                                                                 \n",
      " dense_78 (Dense)            (None, 100)               25700     \n",
      "                                                                 \n",
      "=================================================================\n",
      "Total params: 8,964,740\n",
      "Trainable params: 8,964,740\n",
      "Non-trainable params: 0\n",
      "_________________________________________________________________\n"
     ]
    }
   ],
   "source": [
    "model4 = models.Sequential()\n",
    "\n",
    "model4.add(layers.Conv2D(32, (3, 3), activation='relu', padding=\"same\",input_shape=(32, 32, 3)))\n",
    "model4.add(layers.Conv2D(32, (3, 3), activation='relu', padding=\"same\"))\n",
    "model4.add(layers.MaxPooling2D((2, 2)))\n",
    "model4.add(layers.Conv2D(64, (3, 3),padding=\"same\" ,activation='relu'))\n",
    "model4.add(layers.Conv2D(64, (3, 3),padding=\"same\" ,activation='relu'))\n",
    "model4.add(layers.MaxPooling2D((2, 2)))\n",
    "model4.add(layers.Conv2D(128, (3, 3),padding=\"same\" ,activation='relu'))\n",
    "model4.add(layers.Conv2D(128, (3, 3),padding=\"same\" ,activation='relu'))\n",
    "model4.add(layers.Flatten())\n",
    "model4.add(layers.Dense(1024, activation='relu',kernel_regularizer=l2(0.001)))\n",
    "model4.add(layers.Dense(256, activation='relu',kernel_regularizer=l2(0.001)))\n",
    "model4.add(layers.Dense(100, activation='softmax'))\n",
    "\n",
    "model4.compile(optimizer='adam',\n",
    "              loss='categorical_crossentropy',\n",
    "              metrics=['accuracy'])\n",
    "\n",
    "model4.summary()"
   ]
  },
  {
   "cell_type": "code",
   "execution_count": 133,
   "id": "5164ca91",
   "metadata": {},
   "outputs": [
    {
     "name": "stdout",
     "output_type": "stream",
     "text": [
      "Epoch 1/10\n",
      "320/320 [==============================] - 65s 199ms/step - loss: 4.3929 - accuracy: 0.0399 - val_loss: 4.0218 - val_accuracy: 0.0845\n",
      "Epoch 2/10\n",
      "320/320 [==============================] - 62s 193ms/step - loss: 3.8775 - accuracy: 0.1088 - val_loss: 3.7164 - val_accuracy: 0.1390\n",
      "Epoch 3/10\n",
      "320/320 [==============================] - 63s 198ms/step - loss: 3.5607 - accuracy: 0.1679 - val_loss: 3.4134 - val_accuracy: 0.1965\n",
      "Epoch 4/10\n",
      "320/320 [==============================] - 63s 196ms/step - loss: 3.2869 - accuracy: 0.2259 - val_loss: 3.2770 - val_accuracy: 0.2359\n",
      "Epoch 5/10\n",
      "320/320 [==============================] - 63s 197ms/step - loss: 3.0715 - accuracy: 0.2783 - val_loss: 3.1910 - val_accuracy: 0.2545\n",
      "Epoch 6/10\n",
      "320/320 [==============================] - 62s 194ms/step - loss: 2.8885 - accuracy: 0.3187 - val_loss: 3.1161 - val_accuracy: 0.2925\n",
      "Epoch 7/10\n",
      "320/320 [==============================] - 63s 198ms/step - loss: 2.7054 - accuracy: 0.3642 - val_loss: 3.0234 - val_accuracy: 0.3111\n",
      "Epoch 8/10\n",
      "320/320 [==============================] - 64s 200ms/step - loss: 2.5463 - accuracy: 0.4079 - val_loss: 3.0317 - val_accuracy: 0.3359\n",
      "Epoch 9/10\n",
      "320/320 [==============================] - 63s 198ms/step - loss: 2.3937 - accuracy: 0.4507 - val_loss: 3.1235 - val_accuracy: 0.3324\n",
      "Epoch 10/10\n",
      "320/320 [==============================] - 63s 197ms/step - loss: 2.2327 - accuracy: 0.4976 - val_loss: 3.1602 - val_accuracy: 0.3311\n"
     ]
    }
   ],
   "source": [
    "history4 = model4.fit(x_subtrain, y_subtrain, batch_size=100, epochs=10,validation_split=0.2)"
   ]
  },
  {
   "cell_type": "code",
   "execution_count": 134,
   "id": "bec05b4c",
   "metadata": {},
   "outputs": [],
   "source": [
    "model4.save(\"model4.keras\")"
   ]
  },
  {
   "cell_type": "code",
   "execution_count": 135,
   "id": "98b70fcd",
   "metadata": {
    "scrolled": true
   },
   "outputs": [
    {
     "data": {
      "image/png": "[encoded data removed]",
      "text/plain": [
       "<Figure size 640x480 with 1 Axes>"
      ]
     },
     "metadata": {},
     "output_type": "display_data"
    }
   ],
   "source": [
    "plt.plot(history4.history[\"accuracy\"])\n",
    "plt.plot(history4.history[\"val_accuracy\"])\n",
    "plt.legend([\"Accuracy\",\"Val_accuracy\"])\n",
    "plt.xlabel(\"Epochs\")\n",
    "plt.ylabel(\"Accuracy\")\n",
    "plt.title(\"Model 4\");"
   ]
  },
  {
   "cell_type": "markdown",
   "id": "6d9cb787",
   "metadata": {},
   "source": [
    "### Model 5"
   ]
  },
  {
   "cell_type": "code",
   "execution_count": 136,
   "id": "4da3d820",
   "metadata": {
    "scrolled": false
   },
   "outputs": [
    {
     "name": "stdout",
     "output_type": "stream",
     "text": [
      "Model: \"sequential_27\"\n",
      "_________________________________________________________________\n",
      " Layer (type)                Output Shape              Param #   \n",
      "=================================================================\n",
      " conv2d_139 (Conv2D)         (None, 32, 32, 32)        896       \n",
      "                                                                 \n",
      " conv2d_140 (Conv2D)         (None, 32, 32, 32)        9248      \n",
      "                                                                 \n",
      " max_pooling2d_61 (MaxPoolin  (None, 16, 16, 32)       0         \n",
      " g2D)                                                            \n",
      "                                                                 \n",
      " conv2d_141 (Conv2D)         (None, 16, 16, 64)        18496     \n",
      "                                                                 \n",
      " conv2d_142 (Conv2D)         (None, 16, 16, 64)        36928     \n",
      "                                                                 \n",
      " max_pooling2d_62 (MaxPoolin  (None, 8, 8, 64)         0         \n",
      " g2D)                                                            \n",
      "                                                                 \n",
      " conv2d_143 (Conv2D)         (None, 8, 8, 128)         73856     \n",
      "                                                                 \n",
      " conv2d_144 (Conv2D)         (None, 8, 8, 128)         147584    \n",
      "                                                                 \n",
      " flatten_27 (Flatten)        (None, 8192)              0         \n",
      "                                                                 \n",
      " dense_79 (Dense)            (None, 1024)              8389632   \n",
      "                                                                 \n",
      " dense_80 (Dense)            (None, 256)               262400    \n",
      "                                                                 \n",
      " dense_81 (Dense)            (None, 100)               25700     \n",
      "                                                                 \n",
      "=================================================================\n",
      "Total params: 8,964,740\n",
      "Trainable params: 8,964,740\n",
      "Non-trainable params: 0\n",
      "_________________________________________________________________\n"
     ]
    }
   ],
   "source": [
    "model5 = models.Sequential()\n",
    "\n",
    "model5.add(layers.Conv2D(32, (3, 3), activation='relu',kernel_regularizer=l2(0.001), padding=\"same\",input_shape=(32, 32, 3)))\n",
    "model5.add(layers.Conv2D(32, (3, 3), activation='relu',kernel_regularizer=l2(0.001), padding=\"same\"))\n",
    "model5.add(layers.MaxPooling2D((2, 2)))\n",
    "model5.add(layers.Conv2D(64, (3, 3),padding=\"same\" ,kernel_regularizer=l2(0.001),activation='relu'))\n",
    "model5.add(layers.Conv2D(64, (3, 3),padding=\"same\" ,kernel_regularizer=l2(0.001),activation='relu'))\n",
    "model5.add(layers.MaxPooling2D((2, 2)))\n",
    "model5.add(layers.Conv2D(128, (3, 3),padding=\"same\" ,kernel_regularizer=l2(0.001),activation='relu'))\n",
    "model5.add(layers.Conv2D(128, (3, 3),padding=\"same\",kernel_regularizer=l2(0.001) ,activation='relu'))\n",
    "model5.add(layers.Flatten())\n",
    "model5.add(layers.Dense(1024, activation='relu',kernel_regularizer=l2(0.001)))\n",
    "model5.add(layers.Dense(256, activation='relu',kernel_regularizer=l2(0.001)))\n",
    "model5.add(layers.Dense(100, activation='softmax'))\n",
    "\n",
    "model5.compile(optimizer='adam',\n",
    "              loss='categorical_crossentropy',\n",
    "              metrics=['accuracy'])\n",
    "\n",
    "model5.summary()"
   ]
  },
  {
   "cell_type": "code",
   "execution_count": 137,
   "id": "c5407687",
   "metadata": {},
   "outputs": [
    {
     "name": "stdout",
     "output_type": "stream",
     "text": [
      "Epoch 1/10\n",
      "500/500 [==============================] - 80s 156ms/step - loss: 4.7031 - accuracy: 0.0096 - val_loss: 4.6071 - val_accuracy: 0.0077\n",
      "Epoch 2/10\n",
      "500/500 [==============================] - 77s 154ms/step - loss: 4.6057 - accuracy: 0.0100 - val_loss: 4.6064 - val_accuracy: 0.0077\n",
      "Epoch 3/10\n",
      "500/500 [==============================] - 77s 155ms/step - loss: 4.6053 - accuracy: 0.0106 - val_loss: 4.6067 - val_accuracy: 0.0077\n",
      "Epoch 4/10\n",
      "500/500 [==============================] - 77s 154ms/step - loss: 4.6052 - accuracy: 0.0098 - val_loss: 4.6068 - val_accuracy: 0.0077\n",
      "Epoch 5/10\n",
      "500/500 [==============================] - 78s 155ms/step - loss: 4.6052 - accuracy: 0.0102 - val_loss: 4.6070 - val_accuracy: 0.0077\n",
      "Epoch 6/10\n",
      "500/500 [==============================] - 78s 157ms/step - loss: 4.6052 - accuracy: 0.0108 - val_loss: 4.6071 - val_accuracy: 0.0077\n",
      "Epoch 7/10\n",
      "500/500 [==============================] - 78s 155ms/step - loss: 4.6052 - accuracy: 0.0105 - val_loss: 4.6073 - val_accuracy: 0.0077\n",
      "Epoch 8/10\n",
      "500/500 [==============================] - 78s 156ms/step - loss: 4.6052 - accuracy: 0.0105 - val_loss: 4.6073 - val_accuracy: 0.0077\n",
      "Epoch 9/10\n",
      "500/500 [==============================] - 78s 157ms/step - loss: 4.6052 - accuracy: 0.0101 - val_loss: 4.6074 - val_accuracy: 0.0077\n",
      "Epoch 10/10\n",
      "500/500 [==============================] - 78s 156ms/step - loss: 4.6052 - accuracy: 0.0103 - val_loss: 4.6074 - val_accuracy: 0.0077\n"
     ]
    }
   ],
   "source": [
    "history5 = model5.fit(x_subtrain, y_subtrain, batch_size=64, epochs=10,validation_split=0.2)\n"
   ]
  },
  {
   "cell_type": "code",
   "execution_count": 140,
   "id": "d7cfffcd",
   "metadata": {},
   "outputs": [],
   "source": [
    "model5.save(\"model5.keras\")"
   ]
  },
  {
   "cell_type": "code",
   "execution_count": 141,
   "id": "ba509b60",
   "metadata": {
    "scrolled": false
   },
   "outputs": [
    {
     "data": {
      "image/png": "[encoded data removed]",
      "text/plain": [
       "<Figure size 640x480 with 1 Axes>"
      ]
     },
     "metadata": {},
     "output_type": "display_data"
    }
   ],
   "source": [
    "plt.plot(history5.history[\"accuracy\"])\n",
    "plt.plot(history5.history[\"val_accuracy\"])\n",
    "plt.legend([\"Accuracy\",\"Val_accuracy\"])\n",
    "plt.xlabel(\"Epochs\")\n",
    "plt.ylabel(\"Accuracy\")\n",
    "plt.title(\"Model 5\");"
   ]
  },
  {
   "cell_type": "markdown",
   "id": "46ee9a80",
   "metadata": {},
   "source": [
    "### Model6"
   ]
  },
  {
   "cell_type": "code",
   "execution_count": 144,
   "id": "44eac099",
   "metadata": {
    "scrolled": false
   },
   "outputs": [
    {
     "name": "stdout",
     "output_type": "stream",
     "text": [
      "Model: \"sequential_29\"\n",
      "_________________________________________________________________\n",
      " Layer (type)                Output Shape              Param #   \n",
      "=================================================================\n",
      " conv2d_151 (Conv2D)         (None, 32, 32, 32)        896       \n",
      "                                                                 \n",
      " conv2d_152 (Conv2D)         (None, 32, 32, 32)        9248      \n",
      "                                                                 \n",
      " batch_normalization_55 (Bat  (None, 32, 32, 32)       128       \n",
      " chNormalization)                                                \n",
      "                                                                 \n",
      " max_pooling2d_65 (MaxPoolin  (None, 16, 16, 32)       0         \n",
      " g2D)                                                            \n",
      "                                                                 \n",
      " conv2d_153 (Conv2D)         (None, 16, 16, 64)        18496     \n",
      "                                                                 \n",
      " conv2d_154 (Conv2D)         (None, 16, 16, 64)        36928     \n",
      "                                                                 \n",
      " batch_normalization_56 (Bat  (None, 16, 16, 64)       256       \n",
      " chNormalization)                                                \n",
      "                                                                 \n",
      " max_pooling2d_66 (MaxPoolin  (None, 8, 8, 64)         0         \n",
      " g2D)                                                            \n",
      "                                                                 \n",
      " conv2d_155 (Conv2D)         (None, 8, 8, 128)         73856     \n",
      "                                                                 \n",
      " conv2d_156 (Conv2D)         (None, 8, 8, 128)         147584    \n",
      "                                                                 \n",
      " flatten_29 (Flatten)        (None, 8192)              0         \n",
      "                                                                 \n",
      " dense_85 (Dense)            (None, 1024)              8389632   \n",
      "                                                                 \n",
      " dropout_42 (Dropout)        (None, 1024)              0         \n",
      "                                                                 \n",
      " dense_86 (Dense)            (None, 256)               262400    \n",
      "                                                                 \n",
      " dropout_43 (Dropout)        (None, 256)               0         \n",
      "                                                                 \n",
      " dense_87 (Dense)            (None, 100)               25700     \n",
      "                                                                 \n",
      "=================================================================\n",
      "Total params: 8,965,124\n",
      "Trainable params: 8,964,932\n",
      "Non-trainable params: 192\n",
      "_________________________________________________________________\n"
     ]
    }
   ],
   "source": [
    "model6 = models.Sequential()\n",
    "\n",
    "model6.add(layers.Conv2D(32, (3, 3), activation='relu',kernel_regularizer=l2(0.001), padding=\"same\",input_shape=(32, 32, 3)))\n",
    "model6.add(layers.Conv2D(32, (3, 3), activation='relu',kernel_regularizer=l2(0.001), padding=\"same\"))\n",
    "model6.add(layers.BatchNormalization())\n",
    "model6.add(layers.MaxPooling2D((2, 2)))\n",
    "model6.add(layers.Conv2D(64, (3, 3),padding=\"same\" ,kernel_regularizer=l2(0.001),activation='relu'))\n",
    "model6.add(layers.Conv2D(64, (3, 3),padding=\"same\" ,kernel_regularizer=l2(0.001),activation='relu'))\n",
    "model6.add(layers.BatchNormalization())\n",
    "model6.add(layers.MaxPooling2D((2, 2)))\n",
    "model6.add(layers.Conv2D(128, (3, 3),padding=\"same\" ,kernel_regularizer=l2(0.001),activation='relu'))\n",
    "model6.add(layers.Conv2D(128, (3, 3),padding=\"same\",kernel_regularizer=l2(0.001) ,activation='relu'))\n",
    "model6.add(layers.Flatten())\n",
    "model6.add(layers.Dense(1024, activation='relu',kernel_regularizer=l2(0.001)))\n",
    "model6.add(layers.Dropout(0.25))\n",
    "model6.add(layers.Dense(256, activation='relu',kernel_regularizer=l2(0.001)))\n",
    "model6.add(layers.Dropout(0.25))\n",
    "model6.add(layers.Dense(100, activation='softmax'))\n",
    "\n",
    "model6.compile(optimizer='adam',\n",
    "              loss='categorical_crossentropy',\n",
    "              metrics=['accuracy'])\n",
    "\n",
    "model6.summary()"
   ]
  },
  {
   "cell_type": "code",
   "execution_count": 145,
   "id": "41121cd8",
   "metadata": {},
   "outputs": [
    {
     "name": "stdout",
     "output_type": "stream",
     "text": [
      "Epoch 1/10\n",
      "320/320 [==============================] - 71s 217ms/step - loss: 4.9206 - accuracy: 0.0900 - val_loss: 4.5409 - val_accuracy: 0.0896\n",
      "Epoch 2/10\n",
      "320/320 [==============================] - 69s 217ms/step - loss: 3.8675 - accuracy: 0.1932 - val_loss: 3.8071 - val_accuracy: 0.2144\n",
      "Epoch 3/10\n",
      "320/320 [==============================] - 71s 221ms/step - loss: 3.5420 - accuracy: 0.2580 - val_loss: 3.6069 - val_accuracy: 0.2591\n",
      "Epoch 4/10\n",
      "320/320 [==============================] - 70s 219ms/step - loss: 3.3166 - accuracy: 0.3130 - val_loss: 3.5119 - val_accuracy: 0.2879\n",
      "Epoch 5/10\n",
      "320/320 [==============================] - 69s 215ms/step - loss: 3.1449 - accuracy: 0.3553 - val_loss: 3.3740 - val_accuracy: 0.3268\n",
      "Epoch 6/10\n",
      "320/320 [==============================] - 69s 217ms/step - loss: 3.0068 - accuracy: 0.3957 - val_loss: 3.2835 - val_accuracy: 0.3485\n",
      "Epoch 7/10\n",
      "320/320 [==============================] - 69s 216ms/step - loss: 2.8934 - accuracy: 0.4321 - val_loss: 3.3014 - val_accuracy: 0.3587\n",
      "Epoch 8/10\n",
      "320/320 [==============================] - 68s 213ms/step - loss: 2.8132 - accuracy: 0.4559 - val_loss: 3.2834 - val_accuracy: 0.3831\n",
      "Epoch 9/10\n",
      "320/320 [==============================] - 69s 214ms/step - loss: 2.7272 - accuracy: 0.4919 - val_loss: 3.3082 - val_accuracy: 0.3780\n",
      "Epoch 10/10\n",
      "320/320 [==============================] - 70s 217ms/step - loss: 2.6554 - accuracy: 0.5147 - val_loss: 3.3677 - val_accuracy: 0.3834\n"
     ]
    }
   ],
   "source": [
    "history6 = model6.fit(x_subtrain, y_subtrain, batch_size=100, epochs=10,validation_split=0.2)\n"
   ]
  },
  {
   "cell_type": "code",
   "execution_count": 146,
   "id": "dc4bea2f",
   "metadata": {},
   "outputs": [],
   "source": [
    "model6.save(\"model6.keras\")"
   ]
  },
  {
   "cell_type": "code",
   "execution_count": 147,
   "id": "75647f30",
   "metadata": {
    "scrolled": false
   },
   "outputs": [
    {
     "data": {
      "image/png": "[encoded data removed]",
      "text/plain": [
       "<Figure size 640x480 with 1 Axes>"
      ]
     },
     "metadata": {},
     "output_type": "display_data"
    }
   ],
   "source": [
    "plt.plot(history6.history[\"accuracy\"])\n",
    "plt.plot(history6.history[\"val_accuracy\"])\n",
    "plt.legend([\"Accuracy\",\"Val_accuracy\"])\n",
    "plt.xlabel(\"Epochs\")\n",
    "plt.ylabel(\"Accuracy\")\n",
    "plt.title(\"Model 6\");"
   ]
  },
  {
   "cell_type": "markdown",
   "id": "3368ca6d",
   "metadata": {},
   "source": [
    "### Model7"
   ]
  },
  {
   "cell_type": "code",
   "execution_count": null,
   "id": "4f19cd02",
   "metadata": {},
   "outputs": [],
   "source": [
    "model7 = models.Sequential()\n",
    "\n",
    "model7.add(layers.Conv2D(32, (3, 3), activation='relu',kernel_regularizer=l2(0.001), padding=\"same\",input_shape=(32, 32, 3)))\n",
    "model7.add(layers.BatchNormalization())\n",
    "model7.add(layers.Conv2D(32, (3, 3), activation='relu',kernel_regularizer=l2(0.001), padding=\"same\"))\n",
    "model7.add(layers.BatchNormalization())\n",
    "model7.add(layers.MaxPooling2D((2, 2)))\n",
    "model7.add(layers.Conv2D(64, (3, 3),padding=\"same\" ,kernel_regularizer=l2(0.001),activation='relu'))\n",
    "model7.add(layers.BatchNormalization())\n",
    "model7.add(layers.Conv2D(64, (3, 3),padding=\"same\" ,kernel_regularizer=l2(0.001),activation='relu'))\n",
    "model7.add(layers.BatchNormalization())\n",
    "model7.add(layers.MaxPooling2D((2, 2)))\n",
    "model7.add(layers.Conv2D(128, (3, 3),padding=\"same\" ,kernel_regularizer=l2(0.001),activation='relu'))\n",
    "model7.add(layers.BatchNormalization())\n",
    "model7.add(layers.Conv2D(128, (3, 3),padding=\"same\",kernel_regularizer=l2(0.001) ,activation='relu'))\n",
    "model7.add(layers.BatchNormalization())\n",
    "model7.add(layers.Flatten())\n",
    "model7.add(layers.Dense(1024, activation='relu',kernel_regularizer=l2(0.001)))\n",
    "model7.add(layers.Dropout(0.25))\n",
    "model7.add(layers.Dense(256, activation='relu',kernel_regularizer=l2(0.001)))\n",
    "model7.add(layers.Dropout(0.25))\n",
    "model7.add(layers.Dense(100, activation='softmax'))\n",
    "\n",
    "model7.compile(optimizer='adam',\n",
    "              loss='categorical_crossentropy',\n",
    "              metrics=['accuracy'])\n",
    "\n",
    "model7.summary()"
   ]
  },
  {
   "cell_type": "code",
   "execution_count": 94,
   "id": "e12bd279",
   "metadata": {},
   "outputs": [
    {
     "name": "stdout",
     "output_type": "stream",
     "text": [
      "Epoch 1/10\n",
      "320/320 [==============================] - 81s 246ms/step - loss: 6.2530 - accuracy: 0.0865 - val_loss: 6.9420 - val_accuracy: 0.0226\n",
      "Epoch 2/10\n",
      "320/320 [==============================] - 78s 243ms/step - loss: 4.7560 - accuracy: 0.1952 - val_loss: 4.4839 - val_accuracy: 0.2289\n",
      "Epoch 3/10\n",
      "320/320 [==============================] - 78s 244ms/step - loss: 4.2267 - accuracy: 0.2808 - val_loss: 4.1621 - val_accuracy: 0.3072\n",
      "Epoch 4/10\n",
      "320/320 [==============================] - 78s 243ms/step - loss: 4.0048 - accuracy: 0.3514 - val_loss: 4.4855 - val_accuracy: 0.2889\n",
      "Epoch 5/10\n",
      "320/320 [==============================] - 76s 238ms/step - loss: 3.8711 - accuracy: 0.4067 - val_loss: 4.3630 - val_accuracy: 0.3324\n",
      "Epoch 6/10\n",
      "320/320 [==============================] - 76s 237ms/step - loss: 3.7959 - accuracy: 0.4543 - val_loss: 4.1331 - val_accuracy: 0.3936\n",
      "Epoch 7/10\n",
      "320/320 [==============================] - 76s 239ms/step - loss: 3.7092 - accuracy: 0.4964 - val_loss: 4.2182 - val_accuracy: 0.4148\n",
      "Epoch 8/10\n",
      "320/320 [==============================] - 77s 242ms/step - loss: 3.6748 - accuracy: 0.5339 - val_loss: 4.3819 - val_accuracy: 0.4149\n",
      "Epoch 9/10\n",
      "320/320 [==============================] - 75s 236ms/step - loss: 3.6378 - accuracy: 0.5724 - val_loss: 4.4367 - val_accuracy: 0.4261\n",
      "Epoch 10/10\n",
      "320/320 [==============================] - 76s 237ms/step - loss: 3.5788 - accuracy: 0.6080 - val_loss: 4.5482 - val_accuracy: 0.4181\n"
     ]
    }
   ],
   "source": [
    "history7 = model7.fit(x_subtrain, y_subtrain, batch_size=100, epochs=10,validation_split=0.2)\n"
   ]
  },
  {
   "cell_type": "code",
   "execution_count": 95,
   "id": "ed7e1ed2",
   "metadata": {},
   "outputs": [],
   "source": [
    "model7.save(\"model7.keras\")"
   ]
  },
  {
   "cell_type": "code",
   "execution_count": 153,
   "id": "91b65abe",
   "metadata": {
    "scrolled": true
   },
   "outputs": [
    {
     "ename": "KeyError",
     "evalue": "'accuracy'",
     "output_type": "error",
     "traceback": [
      "\u001b[1;31m---------------------------------------------------------------------------\u001b[0m",
      "\u001b[1;31mKeyError\u001b[0m                                  Traceback (most recent call last)",
      "\u001b[1;32m~\\AppData\\Local\\Temp\\ipykernel_16004\\714617405.py\u001b[0m in \u001b[0;36m<module>\u001b[1;34m\u001b[0m\n\u001b[1;32m----> 1\u001b[1;33m \u001b[0mplt\u001b[0m\u001b[1;33m.\u001b[0m\u001b[0mplot\u001b[0m\u001b[1;33m(\u001b[0m\u001b[0mhistory7\u001b[0m\u001b[1;33m.\u001b[0m\u001b[0mhistory\u001b[0m\u001b[1;33m[\u001b[0m\u001b[1;34m\"accuracy\"\u001b[0m\u001b[1;33m]\u001b[0m\u001b[1;33m)\u001b[0m\u001b[1;33m\u001b[0m\u001b[1;33m\u001b[0m\u001b[0m\n\u001b[0m\u001b[0;32m      2\u001b[0m \u001b[0mplt\u001b[0m\u001b[1;33m.\u001b[0m\u001b[0mplot\u001b[0m\u001b[1;33m(\u001b[0m\u001b[0mhistory7\u001b[0m\u001b[1;33m.\u001b[0m\u001b[0mhistory\u001b[0m\u001b[1;33m[\u001b[0m\u001b[1;34m\"val_accuracy\"\u001b[0m\u001b[1;33m]\u001b[0m\u001b[1;33m)\u001b[0m\u001b[1;33m\u001b[0m\u001b[1;33m\u001b[0m\u001b[0m\n\u001b[0;32m      3\u001b[0m \u001b[0mplt\u001b[0m\u001b[1;33m.\u001b[0m\u001b[0mlegend\u001b[0m\u001b[1;33m(\u001b[0m\u001b[1;33m[\u001b[0m\u001b[1;34m\"Accuracy\"\u001b[0m\u001b[1;33m,\u001b[0m\u001b[1;34m\"Val_accuracy\"\u001b[0m\u001b[1;33m]\u001b[0m\u001b[1;33m)\u001b[0m\u001b[1;33m\u001b[0m\u001b[1;33m\u001b[0m\u001b[0m\n\u001b[0;32m      4\u001b[0m \u001b[0mplt\u001b[0m\u001b[1;33m.\u001b[0m\u001b[0mxlabel\u001b[0m\u001b[1;33m(\u001b[0m\u001b[1;34m\"Epochs\"\u001b[0m\u001b[1;33m)\u001b[0m\u001b[1;33m\u001b[0m\u001b[1;33m\u001b[0m\u001b[0m\n\u001b[0;32m      5\u001b[0m \u001b[0mplt\u001b[0m\u001b[1;33m.\u001b[0m\u001b[0mylabel\u001b[0m\u001b[1;33m(\u001b[0m\u001b[1;34m\"Accuracy\"\u001b[0m\u001b[1;33m)\u001b[0m\u001b[1;33m\u001b[0m\u001b[1;33m\u001b[0m\u001b[0m\n",
      "\u001b[1;31mKeyError\u001b[0m: 'accuracy'"
     ]
    }
   ],
   "source": [
    "plt.plot(history7.history[\"accuracy\"])\n",
    "plt.plot(history7.history[\"val_accuracy\"])\n",
    "plt.legend([\"Accuracy\",\"Val_accuracy\"])\n",
    "plt.xlabel(\"Epochs\")\n",
    "plt.ylabel(\"Accuracy\")\n",
    "plt.title(\"Model 7\");"
   ]
  },
  {
   "cell_type": "markdown",
   "id": "1151f3c4",
   "metadata": {},
   "source": [
    "### Model8"
   ]
  },
  {
   "cell_type": "code",
   "execution_count": 149,
   "id": "cb96e5d7",
   "metadata": {
    "scrolled": false
   },
   "outputs": [
    {
     "name": "stdout",
     "output_type": "stream",
     "text": [
      "Model: \"sequential_30\"\n",
      "_________________________________________________________________\n",
      " Layer (type)                Output Shape              Param #   \n",
      "=================================================================\n",
      " conv2d_157 (Conv2D)         (None, 32, 32, 32)        896       \n",
      "                                                                 \n",
      " batch_normalization_57 (Bat  (None, 32, 32, 32)       128       \n",
      " chNormalization)                                                \n",
      "                                                                 \n",
      " max_pooling2d_67 (MaxPoolin  (None, 16, 16, 32)       0         \n",
      " g2D)                                                            \n",
      "                                                                 \n",
      " conv2d_158 (Conv2D)         (None, 16, 16, 64)        18496     \n",
      "                                                                 \n",
      " batch_normalization_58 (Bat  (None, 16, 16, 64)       256       \n",
      " chNormalization)                                                \n",
      "                                                                 \n",
      " max_pooling2d_68 (MaxPoolin  (None, 8, 8, 64)         0         \n",
      " g2D)                                                            \n",
      "                                                                 \n",
      " conv2d_159 (Conv2D)         (None, 8, 8, 128)         73856     \n",
      "                                                                 \n",
      " batch_normalization_59 (Bat  (None, 8, 8, 128)        512       \n",
      " chNormalization)                                                \n",
      "                                                                 \n",
      " max_pooling2d_69 (MaxPoolin  (None, 4, 4, 128)        0         \n",
      " g2D)                                                            \n",
      "                                                                 \n",
      " flatten_30 (Flatten)        (None, 2048)              0         \n",
      "                                                                 \n",
      " dense_88 (Dense)            (None, 2048)              4196352   \n",
      "                                                                 \n",
      " dropout_44 (Dropout)        (None, 2048)              0         \n",
      "                                                                 \n",
      " dense_89 (Dense)            (None, 256)               524544    \n",
      "                                                                 \n",
      " dropout_45 (Dropout)        (None, 256)               0         \n",
      "                                                                 \n",
      " dense_90 (Dense)            (None, 100)               25700     \n",
      "                                                                 \n",
      "=================================================================\n",
      "Total params: 4,840,740\n",
      "Trainable params: 4,840,292\n",
      "Non-trainable params: 448\n",
      "_________________________________________________________________\n"
     ]
    }
   ],
   "source": [
    "model8 = models.Sequential()\n",
    "\n",
    "model8.add(layers.Conv2D(32, (3, 3), activation='relu',kernel_regularizer=l2(0.001), padding=\"same\",input_shape=(32, 32, 3)))\n",
    "model8.add(layers.BatchNormalization())\n",
    "model8.add(layers.MaxPooling2D((2, 2)))\n",
    "model8.add(layers.Conv2D(64, (3, 3),padding=\"same\" ,kernel_regularizer=l2(0.001),activation='relu'))\n",
    "model8.add(layers.BatchNormalization())\n",
    "model8.add(layers.MaxPooling2D((2, 2)))\n",
    "model8.add(layers.Conv2D(128, (3, 3),padding=\"same\",kernel_regularizer=l2(0.001) ,activation='relu'))\n",
    "model8.add(layers.BatchNormalization())\n",
    "model8.add(layers.MaxPooling2D((2, 2)))\n",
    "model8.add(layers.Flatten())\n",
    "model8.add(layers.Dense(2048, activation='relu',kernel_regularizer=l2(0.001)))\n",
    "model8.add(layers.Dropout(0.25))\n",
    "model8.add(layers.Dense(256, activation='relu',kernel_regularizer=l2(0.001)))\n",
    "model8.add(layers.Dropout(0.25))\n",
    "model8.add(layers.Dense(100, activation='softmax'))\n",
    "\n",
    "model8.compile(optimizer='adam',\n",
    "              loss='categorical_crossentropy',\n",
    "              metrics=['accuracy'])\n",
    "\n",
    "model8.summary()"
   ]
  },
  {
   "cell_type": "code",
   "execution_count": 150,
   "id": "1470c1fb",
   "metadata": {},
   "outputs": [
    {
     "name": "stdout",
     "output_type": "stream",
     "text": [
      "Epoch 1/10\n",
      "320/320 [==============================] - 37s 111ms/step - loss: 5.7578 - accuracy: 0.0607 - val_loss: 5.5390 - val_accuracy: 0.0389\n",
      "Epoch 2/10\n",
      "320/320 [==============================] - 35s 111ms/step - loss: 4.1607 - accuracy: 0.1555 - val_loss: 4.1757 - val_accuracy: 0.1717\n",
      "Epoch 3/10\n",
      "320/320 [==============================] - 35s 109ms/step - loss: 3.7134 - accuracy: 0.2436 - val_loss: 3.5758 - val_accuracy: 0.2866\n",
      "Epoch 4/10\n",
      "320/320 [==============================] - 35s 110ms/step - loss: 3.5232 - accuracy: 0.3043 - val_loss: 3.6146 - val_accuracy: 0.3055\n",
      "Epoch 5/10\n",
      "320/320 [==============================] - 36s 112ms/step - loss: 3.3528 - accuracy: 0.3604 - val_loss: 3.7225 - val_accuracy: 0.2994\n",
      "Epoch 6/10\n",
      "320/320 [==============================] - 36s 111ms/step - loss: 3.2192 - accuracy: 0.4074 - val_loss: 3.4610 - val_accuracy: 0.3690\n",
      "Epoch 7/10\n",
      "320/320 [==============================] - 35s 109ms/step - loss: 3.1109 - accuracy: 0.4456 - val_loss: 3.5337 - val_accuracy: 0.3692\n",
      "Epoch 8/10\n",
      "320/320 [==============================] - 35s 109ms/step - loss: 3.0243 - accuracy: 0.4800 - val_loss: 3.5997 - val_accuracy: 0.3855\n",
      "Epoch 9/10\n",
      "320/320 [==============================] - 35s 108ms/step - loss: 2.9306 - accuracy: 0.5206 - val_loss: 3.5574 - val_accuracy: 0.4160\n",
      "Epoch 10/10\n",
      "320/320 [==============================] - 35s 109ms/step - loss: 2.8539 - accuracy: 0.5566 - val_loss: 3.6767 - val_accuracy: 0.3932\n"
     ]
    }
   ],
   "source": [
    "history8 = model8.fit(x_subtrain, y_subtrain, batch_size=100, epochs=10,validation_split=0.2)\n"
   ]
  },
  {
   "cell_type": "code",
   "execution_count": 151,
   "id": "b31598cd",
   "metadata": {},
   "outputs": [],
   "source": [
    "model8.save(\"model8.keras\")"
   ]
  },
  {
   "cell_type": "code",
   "execution_count": 152,
   "id": "3b9c24af",
   "metadata": {
    "scrolled": false
   },
   "outputs": [
    {
     "data": {
      "image/png": "[encoded data removed]",
      "text/plain": [
       "<Figure size 640x480 with 1 Axes>"
      ]
     },
     "metadata": {},
     "output_type": "display_data"
    }
   ],
   "source": [
    "plt.plot(history8.history[\"accuracy\"])\n",
    "plt.plot(history8.history[\"val_accuracy\"])\n",
    "plt.legend([\"Accuracy\",\"Val_accuracy\"])\n",
    "plt.xlabel(\"Epochs\")\n",
    "plt.ylabel(\"Accuracy\")\n",
    "plt.title(\"Model 8\");"
   ]
  },
  {
   "cell_type": "markdown",
   "id": "4de63209",
   "metadata": {},
   "source": [
    "# Retraining and testing"
   ]
  },
  {
   "cell_type": "code",
   "execution_count": 154,
   "id": "7b271d48",
   "metadata": {},
   "outputs": [
    {
     "name": "stdout",
     "output_type": "stream",
     "text": [
      "Epoch 1/15\n",
      "400/400 [==============================] - 106s 259ms/step - loss: 6.0214 - accuracy: 0.0882 - val_loss: 5.4050 - val_accuracy: 0.0910\n",
      "Epoch 2/15\n",
      "400/400 [==============================] - 101s 251ms/step - loss: 4.5325 - accuracy: 0.2029 - val_loss: 4.1501 - val_accuracy: 0.2587\n",
      "Epoch 3/15\n",
      "400/400 [==============================] - 101s 252ms/step - loss: 4.0709 - accuracy: 0.2931 - val_loss: 4.1736 - val_accuracy: 0.3002\n",
      "Epoch 4/15\n",
      "400/400 [==============================] - 102s 255ms/step - loss: 3.8853 - accuracy: 0.3620 - val_loss: 3.9766 - val_accuracy: 0.3511\n",
      "Epoch 5/15\n",
      "400/400 [==============================] - 102s 255ms/step - loss: 3.7423 - accuracy: 0.4137 - val_loss: 3.9716 - val_accuracy: 0.3895\n",
      "Epoch 6/15\n",
      "400/400 [==============================] - 101s 253ms/step - loss: 3.6526 - accuracy: 0.4580 - val_loss: 3.8830 - val_accuracy: 0.4252\n",
      "Epoch 7/15\n",
      "400/400 [==============================] - 101s 253ms/step - loss: 3.5825 - accuracy: 0.4905 - val_loss: 4.1903 - val_accuracy: 0.3826\n",
      "Epoch 8/15\n",
      "400/400 [==============================] - 101s 252ms/step - loss: 3.5258 - accuracy: 0.5218 - val_loss: 4.0201 - val_accuracy: 0.4324\n",
      "Epoch 9/15\n",
      "400/400 [==============================] - 102s 255ms/step - loss: 3.4742 - accuracy: 0.5491 - val_loss: 3.9950 - val_accuracy: 0.4534\n",
      "Epoch 10/15\n",
      "400/400 [==============================] - 104s 260ms/step - loss: 3.4327 - accuracy: 0.5752 - val_loss: 4.1228 - val_accuracy: 0.4446\n",
      "Epoch 11/15\n",
      "400/400 [==============================] - 103s 257ms/step - loss: 3.3927 - accuracy: 0.5968 - val_loss: 4.1233 - val_accuracy: 0.4626\n",
      "Epoch 12/15\n",
      "400/400 [==============================] - 101s 253ms/step - loss: 3.3667 - accuracy: 0.6175 - val_loss: 4.1900 - val_accuracy: 0.4638\n",
      "Epoch 13/15\n",
      "400/400 [==============================] - 102s 254ms/step - loss: 3.3265 - accuracy: 0.6431 - val_loss: 4.2551 - val_accuracy: 0.4750\n",
      "Epoch 14/15\n",
      "400/400 [==============================] - 102s 255ms/step - loss: 3.3138 - accuracy: 0.6598 - val_loss: 4.3556 - val_accuracy: 0.4606\n",
      "Epoch 15/15\n",
      "400/400 [==============================] - 102s 254ms/step - loss: 3.2737 - accuracy: 0.6769 - val_loss: 4.3801 - val_accuracy: 0.4681\n"
     ]
    }
   ],
   "source": [
    "#model 7\n",
    "topmodel1 = models.Sequential()\n",
    "\n",
    "topmodel1.add(layers.Conv2D(32, (3, 3), activation='relu',kernel_regularizer=l2(0.001), padding=\"same\",input_shape=(32, 32, 3)))\n",
    "topmodel1.add(layers.BatchNormalization())\n",
    "topmodel1.add(layers.Conv2D(32, (3, 3), activation='relu',kernel_regularizer=l2(0.001), padding=\"same\"))\n",
    "topmodel1.add(layers.BatchNormalization())\n",
    "topmodel1.add(layers.MaxPooling2D((2, 2)))\n",
    "topmodel1.add(layers.Conv2D(64, (3, 3),padding=\"same\" ,kernel_regularizer=l2(0.001),activation='relu'))\n",
    "topmodel1.add(layers.BatchNormalization())\n",
    "topmodel1.add(layers.Conv2D(64, (3, 3),padding=\"same\" ,kernel_regularizer=l2(0.001),activation='relu'))\n",
    "topmodel1.add(layers.BatchNormalization())\n",
    "topmodel1.add(layers.MaxPooling2D((2, 2)))\n",
    "topmodel1.add(layers.Conv2D(128, (3, 3),padding=\"same\" ,kernel_regularizer=l2(0.001),activation='relu'))\n",
    "topmodel1.add(layers.BatchNormalization())\n",
    "topmodel1.add(layers.Conv2D(128, (3, 3),padding=\"same\",kernel_regularizer=l2(0.001) ,activation='relu'))\n",
    "topmodel1.add(layers.BatchNormalization())\n",
    "topmodel1.add(layers.Flatten())\n",
    "topmodel1.add(layers.Dense(1024, activation='relu',kernel_regularizer=l2(0.001)))\n",
    "topmodel1.add(layers.Dropout(0.25))\n",
    "topmodel1.add(layers.Dense(256, activation='relu',kernel_regularizer=l2(0.001)))\n",
    "topmodel1.add(layers.Dropout(0.25))\n",
    "topmodel1.add(layers.Dense(100, activation='softmax'))\n",
    "\n",
    "topmodel1.compile(optimizer='adam',\n",
    "              loss='categorical_crossentropy',\n",
    "              metrics=['accuracy'])\n",
    "\n",
    "new_history1 = topmodel1.fit(x_subtrain, y_subtrain, batch_size=100, epochs=15,validation_data=(x_val,y_val))"
   ]
  },
  {
   "cell_type": "code",
   "execution_count": 157,
   "id": "0a8debb4",
   "metadata": {
    "scrolled": true
   },
   "outputs": [
    {
     "name": "stdout",
     "output_type": "stream",
     "text": [
      "Epoch 1/20\n",
      "400/400 [==============================] - 48s 117ms/step - loss: 5.5261 - accuracy: 0.0644 - val_loss: 4.8343 - val_accuracy: 0.0595\n",
      "Epoch 2/20\n",
      "400/400 [==============================] - 46s 116ms/step - loss: 3.9893 - accuracy: 0.1775 - val_loss: 3.8350 - val_accuracy: 0.2193\n",
      "Epoch 3/20\n",
      "400/400 [==============================] - 47s 117ms/step - loss: 3.6098 - accuracy: 0.2661 - val_loss: 4.7924 - val_accuracy: 0.1685\n",
      "Epoch 4/20\n",
      "400/400 [==============================] - 47s 117ms/step - loss: 3.4112 - accuracy: 0.3329 - val_loss: 3.7462 - val_accuracy: 0.2939\n",
      "Epoch 5/20\n",
      "400/400 [==============================] - 47s 116ms/step - loss: 3.2668 - accuracy: 0.3852 - val_loss: 3.4009 - val_accuracy: 0.3636\n",
      "Epoch 6/20\n",
      "400/400 [==============================] - 47s 118ms/step - loss: 3.1286 - accuracy: 0.4277 - val_loss: 3.4141 - val_accuracy: 0.3766\n",
      "Epoch 7/20\n",
      "400/400 [==============================] - 49s 122ms/step - loss: 3.0239 - accuracy: 0.4651 - val_loss: 3.3273 - val_accuracy: 0.4153\n",
      "Epoch 8/20\n",
      "400/400 [==============================] - 48s 120ms/step - loss: 2.9253 - accuracy: 0.4958 - val_loss: 4.3787 - val_accuracy: 0.2986\n",
      "Epoch 9/20\n",
      "400/400 [==============================] - 48s 119ms/step - loss: 2.8424 - accuracy: 0.5253 - val_loss: 3.5079 - val_accuracy: 0.4043\n",
      "Epoch 10/20\n",
      "400/400 [==============================] - 47s 119ms/step - loss: 2.7805 - accuracy: 0.5500 - val_loss: 3.3342 - val_accuracy: 0.4464\n",
      "Epoch 11/20\n",
      "400/400 [==============================] - 48s 121ms/step - loss: 2.7169 - accuracy: 0.5783 - val_loss: 3.5689 - val_accuracy: 0.4157\n",
      "Epoch 12/20\n",
      "400/400 [==============================] - 49s 123ms/step - loss: 2.6383 - accuracy: 0.6069 - val_loss: 3.9937 - val_accuracy: 0.3814\n",
      "Epoch 13/20\n",
      "400/400 [==============================] - 48s 119ms/step - loss: 2.6099 - accuracy: 0.6242 - val_loss: 3.5435 - val_accuracy: 0.4529\n",
      "Epoch 14/20\n",
      "400/400 [==============================] - 47s 118ms/step - loss: 2.5551 - accuracy: 0.6423 - val_loss: 3.5092 - val_accuracy: 0.4620\n",
      "Epoch 15/20\n",
      "400/400 [==============================] - 47s 119ms/step - loss: 2.5207 - accuracy: 0.6606 - val_loss: 3.7260 - val_accuracy: 0.4367\n",
      "Epoch 16/20\n",
      "400/400 [==============================] - 48s 119ms/step - loss: 2.4816 - accuracy: 0.6785 - val_loss: 3.7681 - val_accuracy: 0.4393\n",
      "Epoch 17/20\n",
      "400/400 [==============================] - 47s 117ms/step - loss: 2.4553 - accuracy: 0.6891 - val_loss: 3.7101 - val_accuracy: 0.4500\n",
      "Epoch 18/20\n",
      "400/400 [==============================] - 47s 117ms/step - loss: 2.4282 - accuracy: 0.7048 - val_loss: 3.7383 - val_accuracy: 0.4442\n",
      "Epoch 19/20\n",
      "400/400 [==============================] - 48s 119ms/step - loss: 2.4048 - accuracy: 0.7147 - val_loss: 3.6892 - val_accuracy: 0.4657\n",
      "Epoch 20/20\n",
      "400/400 [==============================] - 47s 118ms/step - loss: 2.3987 - accuracy: 0.7212 - val_loss: 4.1862 - val_accuracy: 0.4102\n"
     ]
    }
   ],
   "source": [
    "#model 8\n",
    "topmodel2 = models.Sequential()\n",
    "\n",
    "topmodel2.add(layers.Conv2D(32, (3, 3), activation='relu',kernel_regularizer=l2(0.001), padding=\"same\",input_shape=(32, 32, 3)))\n",
    "topmodel2.add(layers.BatchNormalization())\n",
    "topmodel2.add(layers.MaxPooling2D((2, 2)))\n",
    "topmodel2.add(layers.Conv2D(64, (3, 3),padding=\"same\" ,kernel_regularizer=l2(0.001),activation='relu'))\n",
    "topmodel2.add(layers.BatchNormalization())\n",
    "topmodel2.add(layers.MaxPooling2D((2, 2)))\n",
    "topmodel2.add(layers.Conv2D(128, (3, 3),padding=\"same\",kernel_regularizer=l2(0.001) ,activation='relu'))\n",
    "topmodel2.add(layers.BatchNormalization())\n",
    "topmodel2.add(layers.MaxPooling2D((2, 2)))\n",
    "topmodel2.add(layers.Flatten())\n",
    "topmodel2.add(layers.Dense(2048, activation='relu',kernel_regularizer=l2(0.001)))\n",
    "topmodel2.add(layers.Dropout(0.25))\n",
    "topmodel2.add(layers.Dense(256, activation='relu',kernel_regularizer=l2(0.001)))\n",
    "topmodel2.add(layers.Dropout(0.25))\n",
    "topmodel2.add(layers.Dense(100, activation='softmax'))\n",
    "\n",
    "topmodel2.compile(optimizer='adam',\n",
    "              loss='categorical_crossentropy',\n",
    "              metrics=['accuracy'])\n",
    "\n",
    "new_history2 = topmodel2.fit(x_subtrain, y_subtrain, batch_size=100, epochs=15,validation_data=(x_val,y_val))"
   ]
  },
  {
   "cell_type": "code",
   "execution_count": 159,
   "id": "2eea083e",
   "metadata": {
    "scrolled": true
   },
   "outputs": [
    {
     "name": "stdout",
     "output_type": "stream",
     "text": [
      "Epoch 1/15\n",
      "400/400 [==============================] - 91s 224ms/step - loss: 4.7565 - accuracy: 0.0983 - val_loss: 4.2011 - val_accuracy: 0.1309\n",
      "Epoch 2/15\n",
      "400/400 [==============================] - 88s 221ms/step - loss: 3.7818 - accuracy: 0.1971 - val_loss: 3.5960 - val_accuracy: 0.2358\n",
      "Epoch 3/15\n",
      "400/400 [==============================] - 88s 219ms/step - loss: 3.4467 - accuracy: 0.2682 - val_loss: 3.5575 - val_accuracy: 0.2597\n",
      "Epoch 4/15\n",
      "400/400 [==============================] - 87s 217ms/step - loss: 3.2222 - accuracy: 0.3183 - val_loss: 3.1729 - val_accuracy: 0.3353\n",
      "Epoch 5/15\n",
      "400/400 [==============================] - 87s 218ms/step - loss: 3.0528 - accuracy: 0.3663 - val_loss: 3.1647 - val_accuracy: 0.3551\n",
      "Epoch 6/15\n",
      "400/400 [==============================] - 87s 219ms/step - loss: 2.9259 - accuracy: 0.3982 - val_loss: 3.2145 - val_accuracy: 0.3576\n",
      "Epoch 7/15\n",
      "400/400 [==============================] - 88s 220ms/step - loss: 2.8279 - accuracy: 0.4314 - val_loss: 3.0522 - val_accuracy: 0.3942\n",
      "Epoch 8/15\n",
      "400/400 [==============================] - 88s 221ms/step - loss: 2.7406 - accuracy: 0.4554 - val_loss: 3.0527 - val_accuracy: 0.3963\n",
      "Epoch 9/15\n",
      "400/400 [==============================] - 89s 222ms/step - loss: 2.6806 - accuracy: 0.4788 - val_loss: 3.0886 - val_accuracy: 0.4113\n",
      "Epoch 10/15\n",
      "400/400 [==============================] - 88s 219ms/step - loss: 2.6126 - accuracy: 0.5027 - val_loss: 3.0450 - val_accuracy: 0.4149\n",
      "Epoch 11/15\n",
      "400/400 [==============================] - 89s 223ms/step - loss: 2.5606 - accuracy: 0.5229 - val_loss: 3.0002 - val_accuracy: 0.4451\n",
      "Epoch 12/15\n",
      "400/400 [==============================] - 89s 221ms/step - loss: 2.5143 - accuracy: 0.5417 - val_loss: 3.1594 - val_accuracy: 0.4206\n",
      "Epoch 13/15\n",
      "400/400 [==============================] - 88s 220ms/step - loss: 2.4911 - accuracy: 0.5545 - val_loss: 3.3142 - val_accuracy: 0.4080\n",
      "Epoch 14/15\n",
      "400/400 [==============================] - 89s 223ms/step - loss: 2.4398 - accuracy: 0.5724 - val_loss: 3.2177 - val_accuracy: 0.4338\n",
      "Epoch 15/15\n",
      "400/400 [==============================] - 89s 222ms/step - loss: 2.4121 - accuracy: 0.5858 - val_loss: 3.3719 - val_accuracy: 0.4176\n"
     ]
    }
   ],
   "source": [
    "#model 6\n",
    "topmodel3 = models.Sequential()\n",
    "\n",
    "topmodel3.add(layers.Conv2D(32, (3, 3), activation='relu',kernel_regularizer=l2(0.001), padding=\"same\",input_shape=(32, 32, 3)))\n",
    "topmodel3.add(layers.Conv2D(32, (3, 3), activation='relu',kernel_regularizer=l2(0.001), padding=\"same\"))\n",
    "topmodel3.add(layers.BatchNormalization())\n",
    "topmodel3.add(layers.MaxPooling2D((2, 2)))\n",
    "topmodel3.add(layers.Conv2D(64, (3, 3),padding=\"same\" ,kernel_regularizer=l2(0.001),activation='relu'))\n",
    "topmodel3.add(layers.Conv2D(64, (3, 3),padding=\"same\" ,kernel_regularizer=l2(0.001),activation='relu'))\n",
    "topmodel3.add(layers.BatchNormalization())\n",
    "topmodel3.add(layers.MaxPooling2D((2, 2)))\n",
    "topmodel3.add(layers.Conv2D(128, (3, 3),padding=\"same\" ,kernel_regularizer=l2(0.001),activation='relu'))\n",
    "topmodel3.add(layers.Conv2D(128, (3, 3),padding=\"same\",kernel_regularizer=l2(0.001) ,activation='relu'))\n",
    "topmodel3.add(layers.Flatten())\n",
    "topmodel3.add(layers.Dense(1024, activation='relu',kernel_regularizer=l2(0.001)))\n",
    "topmodel3.add(layers.Dropout(0.25))\n",
    "topmodel3.add(layers.Dense(256, activation='relu',kernel_regularizer=l2(0.001)))\n",
    "topmodel3.add(layers.Dropout(0.25))\n",
    "topmodel3.add(layers.Dense(100, activation='softmax'))\n",
    "\n",
    "topmodel3.compile(optimizer='adam',\n",
    "              loss='categorical_crossentropy',\n",
    "              metrics=['accuracy'])\n",
    "\n",
    "\n",
    "new_history3 = topmodel3.fit(x_subtrain, y_subtrain, batch_size=100, epochs=15,validation_data=(x_val,y_val))"
   ]
  },
  {
   "cell_type": "code",
   "execution_count": 162,
   "id": "8f6e1bcf",
   "metadata": {},
   "outputs": [
    {
     "data": {
      "image/png": "[encoded data removed]",
      "text/plain": [
       "<Figure size 640x480 with 1 Axes>"
      ]
     },
     "metadata": {},
     "output_type": "display_data"
    }
   ],
   "source": [
    "plt.plot(new_history1.history[\"val_accuracy\"])\n",
    "plt.plot(new_history2.history[\"val_accuracy\"][0:15])\n",
    "plt.plot(new_history3.history[\"val_accuracy\"])\n",
    "plt.legend([\"model 7\",\"model 8\",\"model 6\"])\n",
    "plt.xlabel(\"epochs\")\n",
    "plt.title(\"Val_accuracy for the top 3 models\");"
   ]
  },
  {
   "cell_type": "code",
   "execution_count": 161,
   "id": "8da216a3",
   "metadata": {},
   "outputs": [
    {
     "name": "stdout",
     "output_type": "stream",
     "text": [
      "313/313 [==============================] - 9s 29ms/step - loss: 4.3669 - accuracy: 0.4685\n",
      "313/313 [==============================] - 5s 16ms/step - loss: 4.1724 - accuracy: 0.4122\n",
      "313/313 [==============================] - 8s 25ms/step - loss: 3.3584 - accuracy: 0.4133\n"
     ]
    },
    {
     "data": {
      "text/plain": [
       "[3.358365297317505, 0.4133000075817108]"
      ]
     },
     "execution_count": 161,
     "metadata": {},
     "output_type": "execute_result"
    }
   ],
   "source": [
    "topmodel1.evaluate(x=x_test,y=y_test) #model 8\n",
    "topmodel2.evaluate(x=x_test,y=y_test) #model 7 \n",
    "topmodel3.evaluate(x=x_test,y=y_test) #model 6"
   ]
  },
  {
   "cell_type": "code",
   "execution_count": 163,
   "id": "7ddaeeda",
   "metadata": {
    "scrolled": true
   },
   "outputs": [
    {
     "name": "stdout",
     "output_type": "stream",
     "text": [
      "Model: \"sequential_31\"\n",
      "_________________________________________________________________\n",
      " Layer (type)                Output Shape              Param #   \n",
      "=================================================================\n",
      " conv2d_160 (Conv2D)         (None, 32, 32, 32)        896       \n",
      "                                                                 \n",
      " batch_normalization_60 (Bat  (None, 32, 32, 32)       128       \n",
      " chNormalization)                                                \n",
      "                                                                 \n",
      " conv2d_161 (Conv2D)         (None, 32, 32, 32)        9248      \n",
      "                                                                 \n",
      " batch_normalization_61 (Bat  (None, 32, 32, 32)       128       \n",
      " chNormalization)                                                \n",
      "                                                                 \n",
      " max_pooling2d_70 (MaxPoolin  (None, 16, 16, 32)       0         \n",
      " g2D)                                                            \n",
      "                                                                 \n",
      " conv2d_162 (Conv2D)         (None, 16, 16, 64)        18496     \n",
      "                                                                 \n",
      " batch_normalization_62 (Bat  (None, 16, 16, 64)       256       \n",
      " chNormalization)                                                \n",
      "                                                                 \n",
      " conv2d_163 (Conv2D)         (None, 16, 16, 64)        36928     \n",
      "                                                                 \n",
      " batch_normalization_63 (Bat  (None, 16, 16, 64)       256       \n",
      " chNormalization)                                                \n",
      "                                                                 \n",
      " max_pooling2d_71 (MaxPoolin  (None, 8, 8, 64)         0         \n",
      " g2D)                                                            \n",
      "                                                                 \n",
      " conv2d_164 (Conv2D)         (None, 8, 8, 128)         73856     \n",
      "                                                                 \n",
      " batch_normalization_64 (Bat  (None, 8, 8, 128)        512       \n",
      " chNormalization)                                                \n",
      "                                                                 \n",
      " conv2d_165 (Conv2D)         (None, 8, 8, 128)         147584    \n",
      "                                                                 \n",
      " batch_normalization_65 (Bat  (None, 8, 8, 128)        512       \n",
      " chNormalization)                                                \n",
      "                                                                 \n",
      " flatten_31 (Flatten)        (None, 8192)              0         \n",
      "                                                                 \n",
      " dense_91 (Dense)            (None, 1024)              8389632   \n",
      "                                                                 \n",
      " dropout_46 (Dropout)        (None, 1024)              0         \n",
      "                                                                 \n",
      " dense_92 (Dense)            (None, 256)               262400    \n",
      "                                                                 \n",
      " dropout_47 (Dropout)        (None, 256)               0         \n",
      "                                                                 \n",
      " dense_93 (Dense)            (None, 100)               25700     \n",
      "                                                                 \n",
      "=================================================================\n",
      "Total params: 8,966,532\n",
      "Trainable params: 8,965,636\n",
      "Non-trainable params: 896\n",
      "_________________________________________________________________\n"
     ]
    }
   ],
   "source": [
    "topmodel1.summary()"
   ]
  },
  {
   "cell_type": "code",
   "execution_count": 164,
   "id": "d2647b0d",
   "metadata": {
    "scrolled": false
   },
   "outputs": [
    {
     "name": "stdout",
     "output_type": "stream",
     "text": [
      "Model: \"sequential_34\"\n",
      "_________________________________________________________________\n",
      " Layer (type)                Output Shape              Param #   \n",
      "=================================================================\n",
      " conv2d_168 (Conv2D)         (None, 32, 32, 32)        896       \n",
      "                                                                 \n",
      " batch_normalization_66 (Bat  (None, 32, 32, 32)       128       \n",
      " chNormalization)                                                \n",
      "                                                                 \n",
      " max_pooling2d_72 (MaxPoolin  (None, 16, 16, 32)       0         \n",
      " g2D)                                                            \n",
      "                                                                 \n",
      " conv2d_169 (Conv2D)         (None, 16, 16, 64)        18496     \n",
      "                                                                 \n",
      " batch_normalization_67 (Bat  (None, 16, 16, 64)       256       \n",
      " chNormalization)                                                \n",
      "                                                                 \n",
      " max_pooling2d_73 (MaxPoolin  (None, 8, 8, 64)         0         \n",
      " g2D)                                                            \n",
      "                                                                 \n",
      " conv2d_170 (Conv2D)         (None, 8, 8, 128)         73856     \n",
      "                                                                 \n",
      " batch_normalization_68 (Bat  (None, 8, 8, 128)        512       \n",
      " chNormalization)                                                \n",
      "                                                                 \n",
      " max_pooling2d_74 (MaxPoolin  (None, 4, 4, 128)        0         \n",
      " g2D)                                                            \n",
      "                                                                 \n",
      " flatten_32 (Flatten)        (None, 2048)              0         \n",
      "                                                                 \n",
      " dense_94 (Dense)            (None, 2048)              4196352   \n",
      "                                                                 \n",
      " dropout_48 (Dropout)        (None, 2048)              0         \n",
      "                                                                 \n",
      " dense_95 (Dense)            (None, 256)               524544    \n",
      "                                                                 \n",
      " dropout_49 (Dropout)        (None, 256)               0         \n",
      "                                                                 \n",
      " dense_96 (Dense)            (None, 100)               25700     \n",
      "                                                                 \n",
      "=================================================================\n",
      "Total params: 4,840,740\n",
      "Trainable params: 4,840,292\n",
      "Non-trainable params: 448\n",
      "_________________________________________________________________\n"
     ]
    }
   ],
   "source": [
    "topmodel2.summary()"
   ]
  },
  {
   "cell_type": "code",
   "execution_count": 165,
   "id": "f66c77da",
   "metadata": {},
   "outputs": [
    {
     "name": "stdout",
     "output_type": "stream",
     "text": [
      "Model: \"sequential_36\"\n",
      "_________________________________________________________________\n",
      " Layer (type)                Output Shape              Param #   \n",
      "=================================================================\n",
      " conv2d_177 (Conv2D)         (None, 32, 32, 32)        896       \n",
      "                                                                 \n",
      " conv2d_178 (Conv2D)         (None, 32, 32, 32)        9248      \n",
      "                                                                 \n",
      " batch_normalization_71 (Bat  (None, 32, 32, 32)       128       \n",
      " chNormalization)                                                \n",
      "                                                                 \n",
      " max_pooling2d_77 (MaxPoolin  (None, 16, 16, 32)       0         \n",
      " g2D)                                                            \n",
      "                                                                 \n",
      " conv2d_179 (Conv2D)         (None, 16, 16, 64)        18496     \n",
      "                                                                 \n",
      " conv2d_180 (Conv2D)         (None, 16, 16, 64)        36928     \n",
      "                                                                 \n",
      " batch_normalization_72 (Bat  (None, 16, 16, 64)       256       \n",
      " chNormalization)                                                \n",
      "                                                                 \n",
      " max_pooling2d_78 (MaxPoolin  (None, 8, 8, 64)         0         \n",
      " g2D)                                                            \n",
      "                                                                 \n",
      " conv2d_181 (Conv2D)         (None, 8, 8, 128)         73856     \n",
      "                                                                 \n",
      " conv2d_182 (Conv2D)         (None, 8, 8, 128)         147584    \n",
      "                                                                 \n",
      " flatten_34 (Flatten)        (None, 8192)              0         \n",
      "                                                                 \n",
      " dense_100 (Dense)           (None, 1024)              8389632   \n",
      "                                                                 \n",
      " dropout_52 (Dropout)        (None, 1024)              0         \n",
      "                                                                 \n",
      " dense_101 (Dense)           (None, 256)               262400    \n",
      "                                                                 \n",
      " dropout_53 (Dropout)        (None, 256)               0         \n",
      "                                                                 \n",
      " dense_102 (Dense)           (None, 100)               25700     \n",
      "                                                                 \n",
      "=================================================================\n",
      "Total params: 8,965,124\n",
      "Trainable params: 8,964,932\n",
      "Non-trainable params: 192\n",
      "_________________________________________________________________\n"
     ]
    }
   ],
   "source": [
    "topmodel3.summary()"
   ]
  }
 ],
 "metadata": {
  "kernelspec": {
   "display_name": "Python 3 (ipykernel)",
   "language": "python",
   "name": "python3"
  },
  "language_info": {
   "codemirror_mode": {
    "name": "ipython",
    "version": 3
   },
   "file_extension": ".py",
   "mimetype": "text/x-python",
   "name": "python",
   "nbconvert_exporter": "python",
   "pygments_lexer": "ipython3",
   "version": "3.9.13"
  }
 },
 "nbformat": 4,
 "nbformat_minor": 5
}
