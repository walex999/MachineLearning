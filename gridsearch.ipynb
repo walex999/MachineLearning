{
 "cells": [
  {
   "cell_type": "code",
   "execution_count": 69,
   "metadata": {},
   "outputs": [],
   "source": [
    "# Generating a toy dataset.\n",
    "# DO NOT MODIFY THIS PART\n",
    "\n",
    "import numpy as np\n",
    "import math\n",
    "import random as rand\n",
    "\n",
    "paras = list((rand.random() - 0.5 for _ in range(9)))\n",
    "\n",
    "def y_gen(x):\n",
    "    h_11 = math.tanh(paras[0] * x[0] + paras[1] * x[1] + paras[2])\n",
    "    h_12 = math.tanh(paras[3] * x[0] + paras[4] * x[1] + paras[5])\n",
    "    h_21 = 1/(1 + np.exp(-(paras[6] * h_11 + paras[7] * h_12 + paras[8])))\n",
    "    return h_21 + ((rand.random()-0.5)/100 if rand.random()>0.6 else 0)\n",
    "\n",
    "n = 300\n",
    "x = list(zip((rand.random() - 0.5 for _ in range(n)), (rand.random() - 0.5 for _ in range(n))))\n",
    "y = list(map(y_gen, x))\n",
    "y = [(i-min(y))/(max(y)-min(y)) for i in y]"
   ]
  },
  {
   "cell_type": "code",
   "execution_count": 70,
   "metadata": {},
   "outputs": [],
   "source": [
    "# Spliting dataset into training, validation, and test.\n",
    "# DO NOT MODIFY THIS PART\n",
    "\n",
    "from sklearn.model_selection import train_test_split\n",
    "\n",
    "r = 0.25\n",
    "x_train, x_test, y_train, y_test = train_test_split(x, y, test_size=r)\n",
    "\n",
    "x_val = x_train[:int(n*r)]\n",
    "partial_x_train = x_train[int(n*r):]\n",
    "y_val = y_train[:int(n*r)]\n",
    "partial_y_train = y_train[int(n*r):]"
   ]
  },
  {
   "cell_type": "code",
   "execution_count": 71,
   "metadata": {
    "id": "B1td-EhoIB3N"
   },
   "outputs": [],
   "source": [
    "# DO NOT MODIFY THIS PART\n",
    "\n",
    "from keras import models\n",
    "from keras import layers\n",
    "from keras import optimizers\n",
    "\n",
    "def create_model(learning_rate=0.01, beta_1=0.9, beta_2=0.999):\n",
    "    model = models.Sequential()\n",
    "    model.add(layers.Dense(2, activation='tanh', input_shape=(2,)))\n",
    "    model.add(layers.Dense(1, activation='sigmoid'))\n",
    "    model.compile(optimizer=optimizers.Adam(learning_rate=learning_rate, beta_1=beta_1, beta_2=beta_2), loss='mse')\n",
    "    return model"
   ]
  },
  {
   "cell_type": "code",
   "execution_count": 76,
   "metadata": {},
   "outputs": [
    {
     "name": "stderr",
     "output_type": "stream",
     "text": [
      "C:\\Users\\alexs\\AppData\\Local\\Temp\\ipykernel_20412\\3133751725.py:4: DeprecationWarning: KerasRegressor is deprecated, use Sci-Keras (https://github.com/adriangb/scikeras) instead. See https://www.adriangb.com/scikeras/stable/migration.html for help migrating.\n",
      "  model = KerasRegressor(build_fn=create_model);\n"
     ]
    },
    {
     "name": "stdout",
     "output_type": "stream",
     "text": [
      "8/8 [==============================] - 0s 23ms/step - loss: 0.0934 - val_loss: 0.1062\n",
      "-0.051569832772389766 {'beta_1': 0.9, 'beta_2': 0.999, 'learning_rate': 0.0001}\n",
      "-0.0513694941493293 {'beta_1': 0.9, 'beta_2': 0.999, 'learning_rate': 0.001}\n",
      "-0.06325551829719686 {'beta_1': 0.9, 'beta_2': 0.999, 'learning_rate': 0.01}\n",
      "-0.05797036611520241 {'beta_1': 0.9, 'beta_2': 0.99, 'learning_rate': 0.0001}\n",
      "-0.08839211327604359 {'beta_1': 0.9, 'beta_2': 0.99, 'learning_rate': 0.001}\n",
      "-0.0754850689250679 {'beta_1': 0.9, 'beta_2': 0.99, 'learning_rate': 0.01}\n",
      "-0.06838639021284684 {'beta_1': 0.9, 'beta_2': 0.9, 'learning_rate': 0.0001}\n",
      "-0.05397810273156674 {'beta_1': 0.9, 'beta_2': 0.9, 'learning_rate': 0.001}\n",
      "-0.04867221078374584 {'beta_1': 0.9, 'beta_2': 0.9, 'learning_rate': 0.01}\n",
      "-0.05809199026199878 {'beta_1': 0.8, 'beta_2': 0.999, 'learning_rate': 0.0001}\n",
      "-0.04123296190807634 {'beta_1': 0.8, 'beta_2': 0.999, 'learning_rate': 0.001}\n",
      "-0.04697591916181029 {'beta_1': 0.8, 'beta_2': 0.999, 'learning_rate': 0.01}\n",
      "-0.07675787117231667 {'beta_1': 0.8, 'beta_2': 0.99, 'learning_rate': 0.0001}\n",
      "-0.06370641100848204 {'beta_1': 0.8, 'beta_2': 0.99, 'learning_rate': 0.001}\n",
      "-0.06826188334380306 {'beta_1': 0.8, 'beta_2': 0.99, 'learning_rate': 0.01}\n",
      "-0.0684979499419215 {'beta_1': 0.8, 'beta_2': 0.9, 'learning_rate': 0.0001}\n",
      "-0.06444928524533762 {'beta_1': 0.8, 'beta_2': 0.9, 'learning_rate': 0.001}\n",
      "-0.06369560176585841 {'beta_1': 0.8, 'beta_2': 0.9, 'learning_rate': 0.01}\n",
      "-0.07516058092731004 {'beta_1': 0.7, 'beta_2': 0.999, 'learning_rate': 0.0001}\n",
      "-0.051743178758096184 {'beta_1': 0.7, 'beta_2': 0.999, 'learning_rate': 0.001}\n",
      "-0.05915179098505343 {'beta_1': 0.7, 'beta_2': 0.999, 'learning_rate': 0.01}\n",
      "-0.07197650371534327 {'beta_1': 0.7, 'beta_2': 0.99, 'learning_rate': 0.0001}\n",
      "-0.07683560428637148 {'beta_1': 0.7, 'beta_2': 0.99, 'learning_rate': 0.001}\n",
      "-0.04793319216023413 {'beta_1': 0.7, 'beta_2': 0.99, 'learning_rate': 0.01}\n",
      "-0.05811458839269694 {'beta_1': 0.7, 'beta_2': 0.9, 'learning_rate': 0.0001}\n",
      "-0.0610488136451693 {'beta_1': 0.7, 'beta_2': 0.9, 'learning_rate': 0.001}\n",
      "-0.049742589564158925 {'beta_1': 0.7, 'beta_2': 0.9, 'learning_rate': 0.01}\n",
      "Best: -0.041233 with {'beta_1': 0.8, 'beta_2': 0.999, 'learning_rate': 0.001}\n"
     ]
    }
   ],
   "source": [
    "from keras.wrappers.scikit_learn import KerasRegressor\n",
    "from sklearn.model_selection import GridSearchCV\n",
    "\n",
    "model = KerasRegressor(build_fn=create_model);\n",
    "\n",
    "param_grid = {\n",
    "    'learning_rate': [0.0001, 0.001, 0.01],\n",
    "    'beta_1': [0.9,0.8,0.7],\n",
    "    'beta_2': [0.999,0.99,0.9]\n",
    "}\n",
    "\n",
    "gridsearch = GridSearchCV(estimator=model, param_grid=param_grid, scoring=\"neg_mean_squared_error\", n_jobs=-1,verbose=0)\n",
    "grid_result = gridsearch.fit(x_train,y_train,validation_data=(x_val, y_val))\n",
    "results = zip(grid_result.cv_results_[\"mean_test_score\"],grid_result.cv_results_[\"params\"])\n",
    "for i in results:\n",
    "    print(i[0],i[1])\n",
    "print(\"Best: %f with %s\" %(grid_result.best_score_, grid_result.best_params_))"
   ]
  }
 ],
 "metadata": {
  "colab": {
   "collapsed_sections": [],
   "name": "Assignment 3 scratch.ipynb",
   "provenance": []
  },
  "kernelspec": {
   "display_name": "Python 3 (ipykernel)",
   "language": "python",
   "name": "python3"
  },
  "language_info": {
   "codemirror_mode": {
    "name": "ipython",
    "version": 3
   },
   "file_extension": ".py",
   "mimetype": "text/x-python",
   "name": "python",
   "nbconvert_exporter": "python",
   "pygments_lexer": "ipython3",
   "version": "3.9.13"
  }
 },
 "nbformat": 4,
 "nbformat_minor": 1
}
